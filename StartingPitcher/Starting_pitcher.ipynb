{
  "cells": [
    {
      "cell_type": "markdown",
      "metadata": {
        "id": "view-in-github",
        "colab_type": "text"
      },
      "source": [
        "<a href=\"https://colab.research.google.com/github/Nam-gu/MLB_Prediction/blob/main/StartingPitcher/Starting_pitcher.ipynb\" target=\"_parent\"><img src=\"https://colab.research.google.com/assets/colab-badge.svg\" alt=\"Open In Colab\"/></a>"
      ]
    },
    {
      "cell_type": "markdown",
      "metadata": {
        "id": "MDcpcklBMLvT"
      },
      "source": [
        "## Statscast Stats"
      ]
    },
    {
      "cell_type": "code",
      "execution_count": 1,
      "metadata": {
        "id": "hh3dkV6TMLvV",
        "colab": {
          "base_uri": "https://localhost:8080/"
        },
        "outputId": "188f8989-8fab-4516-92d1-bf2291c5ab65"
      },
      "outputs": [
        {
          "output_type": "stream",
          "name": "stderr",
          "text": [
            "/usr/local/lib/python3.7/dist-packages/statsmodels/tools/_testing.py:19: FutureWarning: pandas.util.testing is deprecated. Use the functions in the public API at pandas.testing instead.\n",
            "  import pandas.util.testing as tm\n"
          ]
        }
      ],
      "source": [
        "import pandas as pd\n",
        "import numpy as np\n",
        "import matplotlib.pyplot as plt\n",
        "import seaborn as sns\n",
        "sns.set()\n",
        "%matplotlib inline\n",
        "from sklearn.ensemble import RandomForestClassifier\n",
        "from sklearn.ensemble import GradientBoostingClassifier\n",
        "from sklearn.ensemble import AdaBoostClassifier\n",
        "from sklearn.model_selection import GridSearchCV\n",
        "from sklearn.model_selection import cross_val_score\n",
        "from sklearn import metrics\n",
        "import statsmodels.api as sm\n",
        "from sklearn.metrics import accuracy_score\n",
        "import lightgbm\n",
        "from lightgbm import LGBMClassifier\n",
        "from sklearn import svm\n",
        "from sklearn.preprocessing import StandardScaler\n",
        "import warnings\n",
        "warnings.filterwarnings('ignore')"
      ]
    },
    {
      "cell_type": "code",
      "execution_count": 2,
      "metadata": {
        "id": "5l4JaytUS6Qn",
        "colab": {
          "base_uri": "https://localhost:8080/"
        },
        "outputId": "65782616-07c8-4190-f570-68a844233c9c"
      },
      "outputs": [
        {
          "output_type": "stream",
          "name": "stdout",
          "text": [
            "Drive already mounted at /content/drive; to attempt to forcibly remount, call drive.mount(\"/content/drive\", force_remount=True).\n"
          ]
        }
      ],
      "source": [
        "from google.colab import drive\n",
        "drive.mount('/content/drive')"
      ]
    },
    {
      "cell_type": "code",
      "execution_count": 3,
      "metadata": {
        "colab": {
          "base_uri": "https://localhost:8080/"
        },
        "id": "lf4um86OWgfx",
        "outputId": "18f8cad1-b382-495c-808a-11881772df8c"
      },
      "outputs": [
        {
          "output_type": "stream",
          "name": "stdout",
          "text": [
            "/content/drive/MyDrive/MLP_Prediction/MLB_Prediction\n"
          ]
        }
      ],
      "source": [
        "cd drive/MyDrive/MLP_Prediction/MLB_Prediction/"
      ]
    },
    {
      "cell_type": "code",
      "execution_count": 4,
      "metadata": {
        "id": "ktg-meAsWh3E"
      },
      "outputs": [],
      "source": [
        "file = './data/Retrosheet_2010_2019/2010_to_2019_seasons.csv'\n",
        "game_df = pd.read_csv(file)\n",
        "\n",
        "game_col_del = '''VisitorGDP,VisitorCI,HomeGDP,HomeCI, DoubleHeader, DayOfWeek, VisitingTeamLeague, HomeTeamLeague, DayNight, CompletionInfo,ForfeitInfo, ProtestInfo,Attendence, Duration, VisitorLineScore, HomeLineScore, UmpireHID, UmpireHName, Umpire1BID, Umpire1BName, Umpire2BID,Umpire2BName, Umpire3BID, Umpire3BName, UmpireLFID, UmpireLFName, UmpireRFID,UmpireRFName, VisitorManagerID, VisitorManagerName, HomeManagerID, HomeManagerName,WinningPitcherID, WinningPitcherName, LosingPitcherID, LosingPitcherNAme,SavingPitcherID, SavingPitcherName, GameWinningRBIID, GameWinningRBIName, VisitorBatting1Position, VisitorBatting2Position, VisitorBatting3Position,VisitorBatting4Position, VisitorBatting5Position, VisitorBatting6Position,VisitorBatting7Position, VisitorBatting8Position, VisitorBatting9Position,HomeBatting1Position, HomeBatting2Position, HomeBatting3Position,HomeBatting4Position, HomeBatting5Position, HomeBatting6Position,HomeBatting7Position, HomeBatting8Position, HomeBatting9Position,AdditionalInfo, AcquisitionInfo'''\n",
        "game_col_del = game_col_del.replace(\" \", \"\")\n",
        "game_col_del = game_col_del.split(\",\")\n",
        "\n",
        "game_df.drop(game_col_del,axis=1,inplace=True)\n",
        "\n",
        "\n",
        "col_del = ['VisitorBatting1PlayerID', 'VisitorBatting1Name', 'VisitorBatting2PlayerID', 'VisitorBatting2Name', 'VisitorBatting3PlayerID', 'VisitorBatting3Name', 'VisitorBatting4PlayerID', 'VisitorBatting4Name', 'VisitorBatting5PlayerID', 'VisitorBatting5Name', 'VisitorBatting6PlayerID', 'VisitorBatting6Name', 'VisitorBatting7PlayerID', 'VisitorBatting7Name', 'VisitorBatting8PlayerID', 'VisitorBatting8Name', 'VisitorBatting9PlayerID', 'VisitorBatting9Name', 'HomeBatting1PlayerID', 'HomeBatting1Name', 'HomeBatting2PlayerID', 'HomeBatting2Name', 'HomeBatting3PlayerID', 'HomeBatting3Name', 'HomeBatting4PlayerID', 'HomeBatting4Name', 'HomeBatting5PlayerID', 'HomeBatting5Name', 'HomeBatting6PlayerID', 'HomeBatting6Name', 'HomeBatting7PlayerID', 'HomeBatting7Name', 'HomeBatting8PlayerID', 'HomeBatting8Name', 'HomeBatting9PlayerID', 'HomeBatting9Name']\n",
        "game_df.drop(col_del,axis=1,inplace=True)\n",
        "game_df = game_df.rename(columns={\"VisitingTeam\":\"VisitorTeam\",\"VisitingTeamGameNumber\":\"VisitorTeamGameNumber\"})\n",
        "\n",
        "away_inning = game_df['LengthInOuts']//2\n",
        "home_inning = game_df['LengthInOuts']- away_inning\n",
        "\n",
        "\n",
        "game_df['VisitorOffInn'] = away_inning\n",
        "game_df['VisitorDifInn'] = home_inning\n",
        "game_df['HomeOffInn'] = home_inning\n",
        "game_df['HomeDifInn'] = away_inning\n",
        "\n",
        "game_df['Date'] = pd.to_datetime(game_df['Date'].astype(str), format='%Y%m%d')\n",
        "game_df['current_year'] = game_df['Date'].dt.year\n",
        "game_df['Home_team_won?'] = game_df['HomeRunsScore'] > game_df['VisitorRunsScored']\n",
        "game_df['Visitor_team_won?'] = game_df['HomeRunsScore'] < game_df['VisitorRunsScored']\n",
        "\n",
        "\n",
        "bat_stat = [ 'TeamGameNumber','Team','AB','H','D','T','HR','RBI','SH','SF',\n",
        "'HBP','BB','IBB','K','SB','CS','LOB','Pitchers',\n",
        "'ER','TER','WP','Balks','PO','A','E','Passed','DB','TP','OffInn','DifInn','_team_won?']\n",
        "pit_stat = ['H', 'D', 'T', 'HR', 'RBI', 'SH', 'SF', 'HBP', 'BB', 'IBB', 'K', 'LOB', 'ER','DB','AB']\n",
        "\n",
        "select_stat = ['Date']\n",
        "select_stat += ['Home'+i for i in bat_stat]+['Visitor'+i for i in pit_stat]\n",
        "rename1 = {'Visitor'+i:'Pit'+i for i in pit_stat}\n",
        "rename2 = {'Home'+i:i for i in bat_stat}\n",
        "\n",
        "## Home 시각 \n",
        "select_stat = ['Date']\n",
        "select_stat += ['Home'+i for i in bat_stat]+['Visitor'+i for i in pit_stat]\n",
        "rename1 = {'Visitor'+i:'Pit'+i for i in pit_stat}\n",
        "rename2 = {'Home'+i:i for i in bat_stat}\n",
        "Home = game_df.copy()\n",
        "Home = Home[select_stat].rename(columns=rename1)\n",
        "Home = Home.rename(columns=rename2)\n",
        "# away 시각\n",
        "select_stat = ['Date']\n",
        "select_stat += ['Visitor'+i for i in bat_stat]+['Home'+i for i in pit_stat]\n",
        "rename1 = {'Home'+i:'Pit'+i for i in pit_stat}\n",
        "rename2 = {'Visitor'+i:i for i in bat_stat}\n",
        "Visitor = game_df.copy()\n",
        "Visitor = Visitor[select_stat].rename(columns=rename1)\n",
        "Visitor = Visitor.rename(columns=rename2)\n",
        "\n",
        "sep_team = pd.concat([Home,Visitor])\n",
        "sep_team = sep_team.rename(columns={'PitDB':'DP'})\n",
        "sep_team['year']= sep_team.Date.dt.year\n",
        "sep_team.sort_values(['year', 'TeamGameNumber'], inplace=True)"
      ]
    },
    {
      "cell_type": "code",
      "execution_count": 5,
      "metadata": {
        "id": "anqDINScaguJ"
      },
      "outputs": [],
      "source": [
        "col = ['AB', 'H', 'D', 'T', 'HR', 'RBI','DP',\n",
        "       'SF', 'BB', 'K', 'SB', 'CS', 'LOB', 'Pitchers', 'ER', 'TER', 'WP','PitAB',\n",
        "       'Balks', 'PO', 'A', 'E', 'Passed', 'DB', 'TP', 'OffInn', 'DifInn',\n",
        "       'PitH', 'PitD', 'PitT', 'PitHR', 'PitRBI', 'PitSF',\n",
        "       'PitBB', 'PitK', 'PitLOB', 'PitER']"
      ]
    },
    {
      "cell_type": "code",
      "execution_count": 6,
      "metadata": {
        "id": "0DkDCVUkNddc"
      },
      "outputs": [],
      "source": [
        "trend = sep_team.copy()\n",
        "sep_team[col] = sep_team.groupby(['year','Team'])[col].transform(lambda x: x.expanding(1).sum())\n",
        "sep_team[col] = sep_team[col].subtract(trend[col])\n",
        "trend['year']= trend.Date.dt.year\n",
        "trend[col] = trend.groupby(['year','Team'])[col].transform(lambda x: x.rolling(window=5,closed='left').sum())\n",
        "sep_team = sep_team[sep_team['TeamGameNumber']>=10]\n",
        "trend = trend[trend['TeamGameNumber']>=10]\n"
      ]
    },
    {
      "cell_type": "code",
      "execution_count": 7,
      "metadata": {
        "id": "3TYEvapWahLC"
      },
      "outputs": [],
      "source": [
        "\n",
        "select_feature = ['Date', 'TeamGameNumber', 'Team','_team_won?']\n",
        "# feature selection\n",
        "select_feature += ['AB', 'H', 'D', 'T', 'HR', 'RBI','BB', 'K','DP', 'HBP','IBB','SF','SH',#bat stat\n",
        "                    'ER','OffInn','DifInn' # game info\n",
        "                    ,'PitAB','PitH', 'PitD', 'PitT', 'PitHR', 'PitRBI', 'PitSF', 'PitBB',\"PitIBB\",\"PitHBP\" ,'PitK','PitLOB', 'PitER'\n",
        "                    ]\n",
        "sep = sep_team[select_feature] \n",
        "# H, OBP, SLG, ISO, Babip, RC, wOBA X, K, BB, RBI, K/B, HR   \n",
        "# 타자 가공\n",
        "sep['RC'] = ((sep['H']+sep['BB']+sep['HBP']-sep['DP'])\n",
        "        *(sep['H']+2*sep['D']+3*sep['T']+4*sep['HR']+0.52*(sep['SF']+sep['SH'])+0.26*(sep['BB']+sep['HBP']-sep['IBB']))\n",
        "        )/(sep['AB']*sep['AB']) #득점 생산\n",
        "\n",
        "\n",
        "#사구,사사구, 고의사구 통합\n",
        "sep['BB'] += sep['HBP']+sep['IBB']\n",
        "sep['PitBB'] += sep['PitHBP']+sep['PitIBB']\n",
        "#del sep['HBP'],sep['IBB'],sep['PitHBP'],sep['PitIBB']\n",
        "# 희생번트, 희생플라이 통합\n",
        "sep['PitSF'] += sep_team['PitSH']\n",
        "sep['SF'] += sep['SH']\n",
        "#del sep['SH'],sep['PitSH']\n",
        "\n",
        "sep['K/B'] = sep['K']/(sep['BB']+0.5)\n",
        "sep['PA'] = sep['AB'] - sep['BB'] - sep['SF'] # 타수\n",
        "sep['Babip'] = (sep['H']+sep['D']+sep['T']) / (sep['PA']-sep['K']-sep['HR']-sep['SF']) # 인플레이 타구\n",
        "sep['SLG'] = (sep['H']+2*sep['D']+3*sep['T']+4*sep['HR'])/sep['PA'] # 장타율\n",
        "sep['H'] = sep['H']/sep['PA'] # 안타율\n",
        "sep['D'] = sep['D']/sep['PA'] # 안타율\n",
        "sep['T'] = sep['T']/sep['PA'] # 안타율\n",
        "sep['HR'] = sep['HR']/sep['PA'] # 안타율\n",
        "sep['BB'] = sep['BB']/sep['PA'] # 볼넷\n",
        "sep['K'] = sep['K']/sep['PA']\n",
        "sep['RBI'] = sep['RBI']/sep['TeamGameNumber'] # 득점\n",
        "\n",
        "sep['OBP'] = (sep['H']+sep['BB']) #출루율\n",
        "sep['OPS'] = sep['SLG']+sep['OBP'] #OPS\n",
        "sep['GPA'] = (1.8*sep['OBP']+sep['SLG'])/4#GPA(Gross Production Average) - park factor를 적용해야함\n",
        "sep['ISO'] = sep['SLG'] - sep['H']\n",
        "\n",
        "\n",
        "# 투수 가공\n",
        "# PitH, PitOBP, PitSLG, PitOPS, PitHR, EAR, PitB, PitK, PitK/B, WHIP, kwERA\n",
        "sep['ERA'] = sep['PitER']/sep['DifInn']\n",
        "sep['TotalH'] = sep['PitH']+sep['PitD']+sep['PitT']+sep['PitHR']\n",
        "sep['TotalBB'] = sep['PitBB']+sep['PitHBP']\n",
        "sep['PitPA'] = sep['PitAB'] - sep['TotalBB'] - sep['PitSF']\n",
        "sep['kwERA'] = (5.40-12*(sep['PitK'] - sep['TotalBB']))/sep['PitPA']\n",
        "sep['WHIP'] = (sep['TotalH']+sep['TotalBB'])/sep['DifInn']\n",
        "sep['PitK'] = sep['PitK']/sep['DifInn']\n",
        "sep['PitB'] = sep['TotalBB']/sep['DifInn']\n",
        "sep['PitK/B'] = sep['PitK']/(sep['PitB']+0.5)\n",
        "\n",
        "sep['PitSLG'] = (sep['PitH']+2*sep['PitD']+3*sep['PitT']+4*sep['PitHR'])/sep['PitPA'] # 피장타율\n",
        "sep['PitH'] = sep['PitH']/sep['PitPA'] # 피안타율\n",
        "sep['PitOBP'] = (sep['TotalH']+sep['TotalBB']) / sep['PitAB'] #피출루율\n",
        "sep['PitOPS'] = sep['PitSLG']+sep['PitOBP'] #피OPS\n",
        "sep['PitHR'] /= sep['PitPA']\n",
        "\n",
        "#temp = sep[['Date', 'TeamGameNumber', 'Team', '_team_won?','GPA', 'OPS','OBP','H','SLG','Babip','RC']]\n",
        "temp = sep\n",
        "game_log = game_df[['Date','VisitorTeam','HomeTeam','VisitorTeamGameNumber','HomeTeamGameNumber', 'VisitorStartingPitcherName', 'HomeStartingPitcherName']]\n",
        "game_log = pd.merge(game_log,temp,left_on = ['Date','VisitorTeam'], right_on = ['Date','Team'],how='left')\n",
        "game_log = pd.merge(game_log,temp,left_on = ['Date','HomeTeam'], right_on = ['Date','Team'],how='left')\n",
        "\n",
        "select_feature1 = ['Date', 'TeamGameNumber', 'Team','_team_won?']\n",
        "select_feature2 = ['AB', 'H', 'D', 'T', 'HR', 'RBI','BB', 'K','DP', 'HBP','IBB','SF','SH',#bat stat\n",
        "                    'ER','OffInn','DifInn' # game info\n",
        "                    ,'PitAB','PitH', 'PitD', 'PitT', 'PitHR', 'PitRBI', 'PitSF', 'PitBB',\"PitIBB\",\"PitHBP\" ,'PitK','PitLOB', 'PitER'\n",
        "                    ]\n",
        "sep = trend[select_feature1 + select_feature2]\n",
        "\n",
        "# H, OBP, SLG, ISO, Babip, RC, wOBA X, K, BB, RBI, K/B, HR   \n",
        "# 타자 가공\n",
        "sep['RC'] = ((sep['H']+sep['BB']+sep['HBP']-sep['DP'])\n",
        "        *(sep['H']+2*sep['D']+3*sep['T']+4*sep['HR']+0.52*(sep['SF']+sep['SH'])+0.26*(sep['BB']+sep['HBP']-sep['IBB']))\n",
        "        )/(sep['AB']*sep['AB']) #득점 생산\n",
        "\n",
        "\n",
        "#사구,사사구, 고의사구 통합\n",
        "sep['BB'] += sep['HBP']+sep['IBB']\n",
        "sep['PitBB'] += sep['PitHBP']+sep['PitIBB']\n",
        "#del sep['HBP'],sep['IBB'],sep['PitHBP'],sep['PitIBB']\n",
        "# 희생번트, 희생플라이 통합\n",
        "sep['PitSF'] += sep_team['PitSH']\n",
        "sep['SF'] += sep['SH']\n",
        "#del sep['SH'],sep['PitSH']\n",
        "\n",
        "sep['K/B'] = sep['K']/(sep['BB']+0.5)\n",
        "sep['PA'] = sep['AB'] - sep['BB'] - sep['SF'] # 타수\n",
        "sep['Babip'] = (sep['H']+sep['D']+sep['T']) / (sep['PA']-sep['K']-sep['HR']-sep['SF']) # 인플레이 타구\n",
        "sep['SLG'] = (sep['H']+2*sep['D']+3*sep['T']+4*sep['HR'])/sep['PA'] # 장타율\n",
        "sep['H'] = sep['H']/sep['PA'] # 안타율\n",
        "sep['D'] = sep['D']/sep['PA'] # 안타율\n",
        "sep['T'] = sep['T']/sep['PA'] # 안타율\n",
        "sep['HR'] = sep['HR']/sep['PA'] # 안타율\n",
        "sep['BB'] = sep['BB']/sep['PA'] # 볼넷\n",
        "sep['RBI'] = sep['RBI']/5 # 득점\n",
        "sep['K'] = sep['K']/sep['PA']\n",
        "\n",
        "sep['OBP'] = (sep['H']+sep['BB']) #출루율\n",
        "sep['OPS'] = sep['SLG']+sep['OBP'] #OPS\n",
        "sep['GPA'] = (1.8*sep['OBP']+sep['SLG'])/4#GPA(Gross Production Average) - park factor를 적용해야함\n",
        "sep['ISO'] = sep['SLG'] - sep['H']\n",
        "\n",
        "# 투수 가공\n",
        "# PitH, PitOBP, PitSLG, PitOPS, PitHR, EAR, PitB, PitK, PitK/B, WHIP, kwERA\n",
        "sep['ERA'] = sep['PitER']/sep['DifInn']\n",
        "sep['TotalH'] = sep['PitH']+sep['PitD']+sep['PitT']+sep['PitHR']\n",
        "sep['TotalBB'] = sep['PitBB']+sep['PitHBP']\n",
        "sep['PitPA'] = sep['PitAB'] - sep['TotalBB'] - sep['PitSF']\n",
        "sep['kwERA'] = (5.40-12*(sep['PitK'] - sep['TotalBB']))/sep['PitPA']\n",
        "sep['WHIP'] = (sep['TotalH']+sep['TotalBB'])/sep['DifInn']\n",
        "sep['PitK'] = sep['PitK']/sep['DifInn']\n",
        "sep['PitB'] = sep['TotalBB']/sep['DifInn']\n",
        "sep['PitK/B'] = sep['PitK']/(sep['PitB']+0.5)\n",
        "\n",
        "\n",
        "sep['PitSLG'] = (sep['PitH']+2*sep['PitD']+3*sep['PitT']+4*sep['PitHR'])/sep['PitPA'] # 피장타율\n",
        "sep['PitH'] = sep['PitH']/sep['PitPA'] # 피안타율\n",
        "sep['PitOBP'] = (sep['TotalH']+sep['TotalBB']) / sep['PitAB'] #피출루율\n",
        "sep['PitOPS'] = sep['PitSLG']+sep['PitOBP'] #피OPS\n",
        "sep['PitHR'] /= sep['PitPA']\n",
        "\n",
        "#temp = sep[['Date', 'TeamGameNumber', 'Team', '_team_won?','GPA', 'OPS','OBP','H','SLG','Babip','RC']]\n",
        "select = ['H','OBP','SLG','ISO','Babip','RC','K','BB','RBI','K/B','HR','PitH','PitOBP','PitSLG','PitOPS','PitHR','ERA','PitB','PitK','PitK/B','WHIP']\n",
        "temp = sep[select_feature1 + select]\n",
        "\n",
        "game_log = game_log[game_log.VisitorTeamGameNumber>=10]\n",
        "game_log = game_log[game_log.HomeTeamGameNumber>=10]\n",
        "\n",
        "trend_columns = select_feature1 + [\"trend\" + i for i in select]\n",
        "temp.columns = trend_columns\n",
        "temp.drop(['TeamGameNumber', '_team_won?'],axis=1, inplace=True)\n",
        "game_log = pd.merge(game_log,temp,left_on = ['Date','HomeTeam'], right_on = ['Date','Team'],how='left')\n",
        "game_log = pd.merge(game_log,temp,left_on = ['Date','VisitorTeam'], right_on = ['Date','Team'],how='left')\n",
        "\n"
      ]
    },
    {
      "cell_type": "code",
      "execution_count": 8,
      "metadata": {
        "colab": {
          "base_uri": "https://localhost:8080/"
        },
        "id": "2HbbxZ-uIeam",
        "outputId": "17e00d30-799c-477d-a62f-248f35f577d6"
      },
      "outputs": [
        {
          "output_type": "stream",
          "name": "stdout",
          "text": [
            "Requirement already satisfied: unidecode in /usr/local/lib/python3.7/dist-packages (1.3.4)\n"
          ]
        }
      ],
      "source": [
        "!pip install unidecode"
      ]
    },
    {
      "cell_type": "code",
      "execution_count": 9,
      "metadata": {
        "id": "aXLC8u9OHWwt"
      },
      "outputs": [],
      "source": [
        "from unidecode import unidecode"
      ]
    },
    {
      "cell_type": "code",
      "execution_count": 10,
      "metadata": {
        "id": "273am1VxIdzs"
      },
      "outputs": [],
      "source": [
        "def remove_aster(s):\n",
        "  r = s.lower()\n",
        "  if s[-1] == '*':\n",
        "    r = r[:-1]\n",
        "  tmp = r.split()\n",
        "  if len(tmp) != 2:\n",
        "    if tmp[2] == 'iii':\n",
        "      r = ' '.join(tmp[:2])\n",
        "  return r"
      ]
    },
    {
      "cell_type": "code",
      "execution_count": 11,
      "metadata": {
        "id": "n-fYe14gbgly"
      },
      "outputs": [],
      "source": [
        "game_log.HomeStartingPitcherName = game_log.HomeStartingPitcherName.transform(lambda x: remove_aster(x))\n",
        "game_log.VisitorStartingPitcherName = game_log.VisitorStartingPitcherName.transform(lambda x: remove_aster(x))\n",
        "game_log.replace({'guillermo moscoso (corredor)':'guillermo moscoso','wade matthew leblanc':'wade leblanc'}, inplace=True)\n",
        "all_pitchers = np.union1d(game_log.HomeStartingPitcherName.unique(), game_log.VisitorStartingPitcherName.unique())"
      ]
    },
    {
      "cell_type": "code",
      "execution_count": 12,
      "metadata": {
        "id": "MSfMVqiJLDIH"
      },
      "outputs": [],
      "source": [
        "names_to_chage = ['Charles Leesman*', 'Dave Bush', 'Duane Underwood Jr.', 'Roberto Hernandez','Hyun Jin Ryu*', 'JC Ramirez', 'Jake Faria', 'Jakob Junis', 'Josh A. Smith', 'Lance McCullers Jr.', 'Luke French*', 'Mark Leiter Jr.', 'Matthew Boyd*', 'Matthew Festa', 'Mike Fiers','Mike Wright Jr.', 'Nate Karns', 'Sam Deduno', 'T.J. House*','Tommy Milone*', 'Vince Velasquez', 'Wade LeBlanc*','Yunesky Maya' ]\n",
        "changed_name= ['Charlie Leesman', 'David Bush', 'Duane Underwood','Fausto Carmona', 'Hyun-Jin Ryu', 'J.C. Ramirez', 'Jacob Faria','Jake Junis', 'Josh Smith', 'Lance Mccullers', 'Lucas French','Mark Leiter', 'Matt Boyd', 'Matt Festa', 'Michael Fiers','Mike Wright', 'Nathan Karns', 'Samuel Deduno', 'TJ House','Tom Milone', 'Vincent Velasquez', 'Wade LeBlanc','Yuniesky Maya']\n",
        "new_names = { name:new_name for name, new_name in zip(names_to_chage, changed_name) }"
      ]
    },
    {
      "cell_type": "code",
      "execution_count": 13,
      "metadata": {
        "id": "M7ChVNVs8Cel"
      },
      "outputs": [],
      "source": [
        "root_dir = './data/Retrosheet_2010_2019/'\n",
        "\n",
        "pitcher_df = pd.DataFrame()\n",
        "for i in range(2009, 2019):\n",
        "  df = pd.read_csv(root_dir+str(i)+'.csv')\n",
        "  df = df.drop(['Rk','Age', 'Lg', 'SHO'], axis=1)\n",
        "  df['year'] = i + 1\n",
        "  df.drop(df.index[-1], axis=0, inplace=True)\n",
        "  duplicated_names = df[df.Tm == 'TOT'].Name\n",
        "  df.drop(df[(df.Tm == 'TOT')].index, inplace=True)\n",
        "  pitcher_df = pd.concat([pitcher_df, df], ignore_index=True)\n",
        "pitcher_df.Name = pitcher_df.Name.str.split('\\\\').str[0]\n",
        "pitcher_df.replace(new_names, inplace=True)\n",
        "pitcher_df.Name = pitcher_df.Name.transform(lambda x: unidecode(x))\n",
        "pitcher_df.Name = pitcher_df.Name.transform(lambda x: remove_aster(x))\n",
        "pitcher_df = pitcher_df[pitcher_df.Name.isin(all_pitchers)]"
      ]
    },
    {
      "cell_type": "code",
      "source": [
        "team_pitching = pd.DataFrame()\n",
        "for i in range(2009, 2019):\n",
        "  df = pd.read_csv(root_dir+'team_' + str(i) + '.csv')\n",
        "  df = df.drop(['#P', 'PAge', 'RA/G', 'LOB', 'cSho', 'tSho'], axis=1)\n",
        "  df['year'] = i + 1\n",
        "  team_pitching = pd.concat([team_pitching, df], ignore_index=True)\n",
        "team_pitching.replace({'Los Angeles Angels of Anaheim':'Los Angeles Angels'}, inplace = True)"
      ],
      "metadata": {
        "id": "O-NgrC7q4I3F"
      },
      "execution_count": 14,
      "outputs": []
    },
    {
      "cell_type": "code",
      "source": [
        "game_log.replace({\"MIA\":\"FLO\"}, inplace=True)\n",
        "pitcher_df.replace({\"MIA\":\"FLA\"}, inplace=True)"
      ],
      "metadata": {
        "id": "HVTMzSgv7aLY"
      },
      "execution_count": 15,
      "outputs": []
    },
    {
      "cell_type": "markdown",
      "source": [
        "Team Name Handling"
      ],
      "metadata": {
        "id": "oKaT0BgCLoLp"
      }
    },
    {
      "cell_type": "code",
      "source": [
        "team_name_a = \"\"\"\n",
        "ARI\n",
        "ATL\n",
        "BAL\n",
        "BOS\n",
        "CHN\n",
        "CHA\n",
        "CIN\n",
        "CLE\n",
        "COL\n",
        "DET\n",
        "FLO\n",
        "HOU\n",
        "KCA\n",
        "ANA\n",
        "LAN\n",
        "MIL\n",
        "MIN\n",
        "NYN\n",
        "NYA\n",
        "OAK\n",
        "PHI\n",
        "PIT\n",
        "SDN\n",
        "SEA\n",
        "SFN\n",
        "SLN\n",
        "TBA\n",
        "TEX\n",
        "TOR\n",
        "WAS\n",
        "\"\"\""
      ],
      "metadata": {
        "id": "2O5AXh1tFPw2"
      },
      "execution_count": 16,
      "outputs": []
    },
    {
      "cell_type": "code",
      "source": [
        "team_name_b = \"\"\"\n",
        "ARI\n",
        "ATL\n",
        "BAL\n",
        "BOS\n",
        "CHC\n",
        "CHW\n",
        "CIN\n",
        "CLE\n",
        "COL\n",
        "DET\n",
        "FLA\n",
        "HOU\n",
        "KCR\n",
        "LAA\n",
        "LAD\n",
        "MIL\n",
        "MIN\n",
        "NYM\n",
        "NYY\n",
        "OAK\n",
        "PHI\n",
        "PIT\n",
        "SDP\n",
        "SEA\n",
        "SFG\n",
        "STL\n",
        "TBR\n",
        "TEX\n",
        "TOR\n",
        "WSN\n",
        "\"\"\""
      ],
      "metadata": {
        "id": "ncna1dCeLcoJ"
      },
      "execution_count": 17,
      "outputs": []
    },
    {
      "cell_type": "code",
      "source": [
        "team_name_c = \"\"\"\n",
        "Arizona Diamondbacks\n",
        "Atlanta Braves \n",
        "Baltimore Orioles\n",
        "Boston Red Sox\n",
        "Chicago Cubs\n",
        "Chicago White Sox\n",
        "Cincinnati Reds\n",
        "Cleveland Indians\n",
        "Colorado Rockies\n",
        "Detroit Tigers\n",
        "Florida Marlins\n",
        "Houston Astros\n",
        "Kansas City Royals\n",
        "Los Angeles Angels\n",
        "Los Angeles Dodgers\n",
        "Milwaukee Brewers\n",
        "Minnesota Twins\n",
        "New York Mets\n",
        "New York Yankees\n",
        "Oakland Athletics\n",
        "Philadelphia Phillies\n",
        "Pittsburgh Pirates\n",
        "San Diego Padres\n",
        "Seattle Mariners\n",
        "San Francisco Giants\n",
        "St. Louis Cardinals\n",
        "Tampa Bay Rays\n",
        "Texas Rangers\n",
        "Toronto Blue Jays\n",
        "Washington Nationals\n",
        "\"\"\""
      ],
      "metadata": {
        "id": "mUjJ6P7OKQ2v"
      },
      "execution_count": 18,
      "outputs": []
    },
    {
      "cell_type": "code",
      "source": [
        "TeamName1 = {name:new_name for name, new_name in zip(team_name_b.split('\\n'), team_name_a.split('\\n')) }\n",
        "TeamName2 = {name:new_name for name, new_name in zip(team_name_c.split('\\n'), team_name_a.split('\\n')) }\n",
        "pitcher_df.replace(TeamName1, inplace=True)\n",
        "team_pitching.replace(TeamName2, inplace=True)\n",
        "pitcher_df.columns = ['StartPitcher'+ i for i in pitcher_df.columns]\n",
        "team_pitching.columns = ['StartPitcher'+ i for i in team_pitching.columns]"
      ],
      "metadata": {
        "id": "WxTZZBdtMUmS"
      },
      "execution_count": 19,
      "outputs": []
    },
    {
      "cell_type": "code",
      "source": [
        "game_log['year'] = game_log.Date.dt.year\n",
        "new_df = game_log[['year', 'HomeStartingPitcherName', 'HomeTeam']]\n",
        "new_df.columns = ['year', 'Name', 'Team']\n",
        "tmp = game_log[['year', 'VisitorStartingPitcherName', 'VisitorTeam']]\n",
        "tmp.columns = ['year', 'Name', 'Team']\n",
        "new_df = pd.concat([new_df,tmp])\n",
        "new_df.drop_duplicates(inplace=True)"
      ],
      "metadata": {
        "id": "tR0MBTwDoqZ7"
      },
      "execution_count": 21,
      "outputs": []
    },
    {
      "cell_type": "code",
      "source": [
        "new_df = pd.merge(new_df,pitcher_df,left_on = ['year','Name', 'Team'], right_on = ['StartPitcheryear','StartPitcherName','StartPitcherTm'], how='left')\n",
        "# new_df2 = pd.merge(new_df,team_pitching,left_on = ['year', 'Team'], right_on = ['StartPitcheryear','StartPitcherTm'],how='left')"
      ],
      "metadata": {
        "id": "6XxxWjMTqweJ"
      },
      "execution_count": 22,
      "outputs": []
    },
    {
      "cell_type": "code",
      "source": [
        "new_df.iloc[2].Name , pitcher_df.iloc[181].StartPitcherName"
      ],
      "metadata": {
        "colab": {
          "base_uri": "https://localhost:8080/"
        },
        "id": "9GkkFRsA1IHu",
        "outputId": "62685ea5-dc1f-4727-9de4-a04bae940ed4"
      },
      "execution_count": 23,
      "outputs": [
        {
          "output_type": "execute_result",
          "data": {
            "text/plain": [
              "('dana eveland', 'jeff niemann')"
            ]
          },
          "metadata": {},
          "execution_count": 23
        }
      ]
    },
    {
      "cell_type": "code",
      "execution_count": 248,
      "metadata": {
        "id": "36Oy-QtnFjBi"
      },
      "outputs": [],
      "source": [
        "\n",
        "game_log2 = pd.merge(game_log,pitcher_df,left_on = ['year','HomeStartingPitcherName', 'HomeTeam'], right_on = ['StartPitcheryear','StartPitcherName','StartPitcherTm'],how='left')\n",
        "game_log2 = pd.merge(game_log2,pitcher_df,left_on = ['year','VisitorStartingPitcherName', 'VisitorTeam'], right_on = ['StartPitcheryear','StartPitcherName','StartPitcherTm'],how='left')\n"
      ]
    },
    {
      "cell_type": "code",
      "source": [
        ""
      ],
      "metadata": {
        "id": "RmXvaV3StowV"
      },
      "execution_count": null,
      "outputs": []
    },
    {
      "cell_type": "code",
      "execution_count": 32,
      "metadata": {
        "id": "9gSPj1lyZbML"
      },
      "outputs": [],
      "source": [
        "pitcher_df.to_csv('pitcher_2010_to_2019.csv', mode='w')\n",
        "team_pitching.to_csv('teampitcher_2010_to_2019.csv', mode='w')"
      ]
    }
  ],
  "metadata": {
    "colab": {
      "collapsed_sections": [],
      "name": "Starting_pitcher.ipynb",
      "provenance": [],
      "include_colab_link": true
    },
    "kernelspec": {
      "display_name": "Python 3",
      "language": "python",
      "name": "python3"
    },
    "language_info": {
      "codemirror_mode": {
        "name": "ipython",
        "version": 3
      },
      "file_extension": ".py",
      "mimetype": "text/x-python",
      "name": "python",
      "nbconvert_exporter": "python",
      "pygments_lexer": "ipython3",
      "version": "3.7.7"
    }
  },
  "nbformat": 4,
  "nbformat_minor": 0
}