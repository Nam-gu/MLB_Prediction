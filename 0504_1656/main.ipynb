{
 "cells": [
  {
   "cell_type": "code",
   "execution_count": 23,
   "metadata": {},
   "outputs": [],
   "source": [
    "import pandas as pd\n",
    "import numpy as np\n",
    "import matplotlib.pyplot as plt\n",
    "import seaborn as sns\n",
    "sns.set()\n",
    "%matplotlib inline\n",
    "from sklearn.ensemble import RandomForestClassifier\n",
    "from sklearn.ensemble import GradientBoostingClassifier\n",
    "from sklearn.ensemble import AdaBoostClassifier\n",
    "from sklearn.model_selection import GridSearchCV\n",
    "from sklearn.model_selection import cross_val_score\n",
    "from sklearn import metrics\n",
    "import statsmodels.api as sm\n",
    "from sklearn.metrics import accuracy_score\n",
    "import lightgbm\n",
    "from lightgbm import LGBMClassifier\n",
    "from sklearn import svm\n",
    "from sklearn.preprocessing import StandardScaler\n",
    "import warnings\n",
    "warnings.filterwarnings('ignore')"
   ]
  },
  {
   "cell_type": "code",
   "execution_count": 24,
   "metadata": {},
   "outputs": [],
   "source": [
    "file = './data/Retrosheet_2010_2019/2010_to_2019_seasons.csv'\n",
    "game_df = pd.read_csv(file)\n",
    "\n",
    "game_col_del = '''VisitorGDP,VisitorCI,HomeGDP,HomeCI, DoubleHeader, DayOfWeek, VisitingTeamLeague, HomeTeamLeague, DayNight, CompletionInfo,ForfeitInfo, ProtestInfo,Attendence, Duration, VisitorLineScore, HomeLineScore, UmpireHID, UmpireHName, Umpire1BID, Umpire1BName, Umpire2BID,Umpire2BName, Umpire3BID, Umpire3BName, UmpireLFID, UmpireLFName, UmpireRFID,UmpireRFName, VisitorManagerID, VisitorManagerName, HomeManagerID, HomeManagerName,WinningPitcherID, WinningPitcherName, LosingPitcherID, LosingPitcherNAme,SavingPitcherID, SavingPitcherName, GameWinningRBIID, GameWinningRBIName, VisitorBatting1Position, VisitorBatting2Position, VisitorBatting3Position,VisitorBatting4Position, VisitorBatting5Position, VisitorBatting6Position,VisitorBatting7Position, VisitorBatting8Position, VisitorBatting9Position,HomeBatting1Position, HomeBatting2Position, HomeBatting3Position,HomeBatting4Position, HomeBatting5Position, HomeBatting6Position,HomeBatting7Position, HomeBatting8Position, HomeBatting9Position,AdditionalInfo, AcquisitionInfo'''\n",
    "game_col_del = game_col_del.replace(\" \", \"\")\n",
    "game_col_del = game_col_del.split(\",\")\n",
    "\n",
    "game_df.drop(game_col_del,axis=1,inplace=True)\n",
    "\n",
    "\n",
    "col_del = ['VisitorBatting1PlayerID', 'VisitorBatting1Name', 'VisitorBatting2PlayerID', 'VisitorBatting2Name', 'VisitorBatting3PlayerID', 'VisitorBatting3Name', 'VisitorBatting4PlayerID', 'VisitorBatting4Name', 'VisitorBatting5PlayerID', 'VisitorBatting5Name', 'VisitorBatting6PlayerID', 'VisitorBatting6Name', 'VisitorBatting7PlayerID', 'VisitorBatting7Name', 'VisitorBatting8PlayerID', 'VisitorBatting8Name', 'VisitorBatting9PlayerID', 'VisitorBatting9Name', 'HomeBatting1PlayerID', 'HomeBatting1Name', 'HomeBatting2PlayerID', 'HomeBatting2Name', 'HomeBatting3PlayerID', 'HomeBatting3Name', 'HomeBatting4PlayerID', 'HomeBatting4Name', 'HomeBatting5PlayerID', 'HomeBatting5Name', 'HomeBatting6PlayerID', 'HomeBatting6Name', 'HomeBatting7PlayerID', 'HomeBatting7Name', 'HomeBatting8PlayerID', 'HomeBatting8Name', 'HomeBatting9PlayerID', 'HomeBatting9Name']\n",
    "game_df.drop(col_del,axis=1,inplace=True)\n",
    "game_df = game_df.rename(columns={\"VisitingTeam\":\"VisitorTeam\",\"VisitingTeamGameNumber\":\"VisitorTeamGameNumber\"})"
   ]
  },
  {
   "cell_type": "code",
   "execution_count": 25,
   "metadata": {},
   "outputs": [],
   "source": [
    "away_inning = game_df['LengthInOuts']//2\n",
    "home_inning = game_df['LengthInOuts']- away_inning\n",
    "\n",
    "\n",
    "game_df['VisitorOffInn'] = away_inning\n",
    "game_df['VisitorDifInn'] = home_inning\n",
    "game_df['HomeOffInn'] = home_inning\n",
    "game_df['HomeDifInn'] = away_inning\n",
    "\n",
    "game_df['Date'] = pd.to_datetime(game_df['Date'].astype(str), format='%Y%m%d')\n",
    "game_df['current_year'] = game_df['Date'].dt.year\n",
    "game_df['Home_team_won?'] = game_df['HomeRunsScore'] > game_df['VisitorRunsScored']\n",
    "game_df['Visitor_team_won?'] = game_df['HomeRunsScore'] < game_df['VisitorRunsScored']"
   ]
  },
  {
   "cell_type": "code",
   "execution_count": 26,
   "metadata": {},
   "outputs": [],
   "source": [
    "bat_stat = [ 'TeamGameNumber','Team','AB','H','D','T','HR','RBI','SH','SF',\n",
    "'HBP','BB','IBB','K','SB','CS','LOB','Pitchers',\n",
    "'ER','TER','WP','Balks','PO','A','E','Passed','DB','TP','OffInn','DifInn','_team_won?']\n",
    "pit_stat = ['H', 'D', 'T', 'HR', 'RBI', 'SH', 'SF', 'HBP', 'BB', 'IBB', 'K', 'LOB', 'ER','DB','AB']"
   ]
  },
  {
   "cell_type": "code",
   "execution_count": 27,
   "metadata": {},
   "outputs": [],
   "source": [
    "select_stat = ['Date']\n",
    "select_stat += ['Home'+i for i in bat_stat]+['Visitor'+i for i in pit_stat]\n",
    "rename1 = {'Visitor'+i:'Pit'+i for i in pit_stat}\n",
    "rename2 = {'Home'+i:i for i in bat_stat}"
   ]
  },
  {
   "cell_type": "code",
   "execution_count": 28,
   "metadata": {},
   "outputs": [],
   "source": [
    "## Home 시각 \n",
    "select_stat = ['Date']\n",
    "select_stat += ['Home'+i for i in bat_stat]+['Visitor'+i for i in pit_stat]\n",
    "rename1 = {'Visitor'+i:'Pit'+i for i in pit_stat}\n",
    "rename2 = {'Home'+i:i for i in bat_stat}\n",
    "Home = game_df.copy()\n",
    "Home = Home[select_stat].rename(columns=rename1)\n",
    "Home = Home.rename(columns=rename2)\n",
    "# away 시각\n",
    "select_stat = ['Date']\n",
    "select_stat += ['Visitor'+i for i in bat_stat]+['Home'+i for i in pit_stat]\n",
    "rename1 = {'Home'+i:'Pit'+i for i in pit_stat}\n",
    "rename2 = {'Visitor'+i:i for i in bat_stat}\n",
    "Visitor = game_df.copy()\n",
    "Visitor = Visitor[select_stat].rename(columns=rename1)\n",
    "Visitor = Visitor.rename(columns=rename2)"
   ]
  },
  {
   "cell_type": "code",
   "execution_count": 39,
   "metadata": {},
   "outputs": [],
   "source": [
    "sep_team = pd.concat([Home,Visitor])\n",
    "sep_team = sep_team.rename(columns={'PitDB':'DP'})"
   ]
  },
  {
   "cell_type": "code",
   "execution_count": 40,
   "metadata": {},
   "outputs": [],
   "source": [
    "col = ['AB', 'H', 'D', 'T', 'HR', 'RBI','DP',\n",
    "       'SF', 'BB', 'K', 'SB', 'CS', 'LOB', 'Pitchers', 'ER', 'TER', 'WP','PitAB',\n",
    "       'Balks', 'PO', 'A', 'E', 'Passed', 'DB', 'TP', 'OffInn', 'DifInn',\n",
    "       'PitH', 'PitD', 'PitT', 'PitHR', 'PitRBI', 'PitSF',\n",
    "       'PitBB', 'PitK', 'PitLOB', 'PitER']"
   ]
  },
  {
   "cell_type": "code",
   "execution_count": 41,
   "metadata": {},
   "outputs": [],
   "source": [
    "a = sep_team.copy()\n",
    "sep_team['year']= sep_team.Date.dt.year\n",
    "sep_team[col] = sep_team.groupby(['year','Team'])[col].transform(lambda x: x.expanding(1).sum())\n",
    "sep_team[col] = sep_team[col].subtract(a[col])\n",
    "sep_team = sep_team[sep_team['TeamGameNumber']>=10]"
   ]
  },
  {
   "cell_type": "code",
   "execution_count": 42,
   "metadata": {},
   "outputs": [],
   "source": [
    "select_feature = ['Date', 'TeamGameNumber', 'Team','_team_won?']\n",
    "# feature selection\n",
    "select_feature += ['AB', 'H', 'D', 'T', 'HR', 'RBI','BB', 'K','DP', 'HBP','IBB','SF','SH',#bat stat\n",
    "                    'ER','OffInn','DifInn' # game info\n",
    "                    ,'PitAB','PitH', 'PitD', 'PitT', 'PitHR', 'PitRBI', 'PitSF', 'PitBB',\"PitIBB\",\"PitHBP\" ,'PitK','PitLOB', 'PitER'\n",
    "                    ]\n"
   ]
  },
  {
   "cell_type": "code",
   "execution_count": 43,
   "metadata": {},
   "outputs": [],
   "source": [
    "sep = sep_team[select_feature] "
   ]
  },
  {
   "cell_type": "code",
   "execution_count": 44,
   "metadata": {},
   "outputs": [],
   "source": [
    "# H, OBP, SLG, ISO, Babip, RC, wOBA X, K, BB, RBI, K/B, HR   \n",
    "# 타자 가공\n",
    "sep['RC'] = ((sep['H']+sep['BB']+sep['HBP']-sep['DP'])\n",
    "        *(sep['H']+2*sep['D']+3*sep['T']+4*sep['HR']+0.52*(sep['SF']+sep['SH'])+0.26*(sep['BB']+sep['HBP']-sep['IBB']))\n",
    "        )/(sep['AB']*sep['AB']) #득점 생산\n",
    "\n",
    "\n",
    "#사구,사사구, 고의사구 통합\n",
    "sep['BB'] += sep['HBP']+sep['IBB']\n",
    "sep['PitBB'] += sep['PitHBP']+sep['PitIBB']\n",
    "#del sep['HBP'],sep['IBB'],sep['PitHBP'],sep['PitIBB']\n",
    "# 희생번트, 희생플라이 통합\n",
    "sep['PitSF'] += sep_team['PitSH']\n",
    "sep['SF'] += sep['SH']\n",
    "#del sep['SH'],sep['PitSH']\n",
    "\n",
    "sep['K/B'] = sep['K']/(sep['BB']+0.5)\n",
    "sep['PA'] = sep['AB'] - sep['BB'] - sep['SF'] # 타수\n",
    "sep['Babip'] = (sep['H']+sep['D']+sep['T']) / (sep['PA']-sep['K']-sep['HR']-sep['SF']) # 인플레이 타구\n",
    "sep['SLG'] = (sep['H']+2*sep['D']+3*sep['T']+4*sep['HR'])/sep['PA'] # 장타율\n",
    "sep['H'] = sep['H']/sep['PA'] # 안타율\n",
    "sep['D'] = sep['D']/sep['PA'] # 안타율\n",
    "sep['T'] = sep['T']/sep['PA'] # 안타율\n",
    "sep['HR'] = sep['HR']/sep['PA'] # 안타율\n",
    "sep['BB'] = sep['BB']/sep['PA'] # 볼넷\n",
    "sep['RBI'] = sep['RBI']/sep['TeamGameNumber'] # 득점\n",
    "\n",
    "sep['OBP'] = (sep['H']+sep['BB']) #출루율\n",
    "sep['OPS'] = sep['SLG']+sep['OBP'] #OPS\n",
    "sep['GPA'] = (1.8*sep['OBP']+sep['SLG'])/4#GPA(Gross Production Average) - park factor를 적용해야함\n",
    "sep['ISO'] = sep['SLG'] - sep['H']\n"
   ]
  },
  {
   "cell_type": "code",
   "execution_count": 45,
   "metadata": {},
   "outputs": [],
   "source": [
    "# 투수 가공\n",
    "# PitH, PitOBP, PitSLG, PitOPS, PitHR, EAR, PitB, PitK, PitK/B, WHIP, kwERA\n",
    "sep['ERA'] = sep['PitER']/sep['DifInn']\n",
    "sep['TotalH'] = sep['PitH']+sep['PitD']+sep['PitT']+sep['PitHR']\n",
    "sep['TotalBB'] = sep['PitBB']+sep['PitHBP']\n",
    "sep['PitPA'] = sep['PitAB'] - sep['TotalBB'] - sep['PitSF']\n",
    "sep['kwERA'] = (5.40-12*(sep['PitK'] - sep['TotalBB']))/sep['PitPA']\n",
    "sep['WHIP'] = (sep['TotalH']+sep['TotalBB'])/sep['DifInn']\n",
    "sep['PitK'] = sep['PitK']/sep['DifInn']\n",
    "sep['PitB'] = sep['TotalBB']/sep['DifInn']\n",
    "sep['PitK/B'] = sep['PitK']/(sep['PitB']+0.5)\n",
    "\n",
    "\n",
    "sep['PitSLG'] = (sep['PitH']+2*sep['PitD']+3*sep['PitT']+4*sep['PitHR'])/sep['PitPA'] # 피장타율\n",
    "sep['PitH'] = sep['PitH']/sep['PitPA'] # 피안타율\n",
    "sep['PitOBP'] = (sep['TotalH']+sep['TotalBB']) / sep['PitAB'] #피출루율\n",
    "sep['PitOPS'] = sep['PitSLG']+sep['PitOBP'] #피OPS\n",
    "sep['PitHR'] /= sep['PitPA']"
   ]
  },
  {
   "cell_type": "code",
   "execution_count": 46,
   "metadata": {},
   "outputs": [],
   "source": [
    "\n",
    "#temp = sep[['Date', 'TeamGameNumber', 'Team', '_team_won?','GPA', 'OPS','OBP','H','SLG','Babip','RC']]\n",
    "temp = sep\n",
    "game_log = game_df[['Date','VisitorTeam','HomeTeam','VisitorTeamGameNumber','HomeTeamGameNumber']]\n",
    "\n",
    "game_log = game_log[game_log.VisitorTeamGameNumber>=10]\n",
    "game_log = game_log[game_log.HomeTeamGameNumber>=10]\n",
    "\n",
    "game_log = pd.merge(game_log,temp,left_on = ['Date','VisitorTeam'], right_on = ['Date','Team'],how='left')\n",
    "game_log = pd.merge(game_log,temp,left_on = ['Date','HomeTeam'], right_on = ['Date','Team'],how='left')\n",
    "\n",
    "game_log['year'] = game_log.Date.dt.year\n",
    "train = game_log[game_log.year!=2019]\n",
    "test = game_log[game_log.year==2019]"
   ]
  },
  {
   "cell_type": "code",
   "execution_count": 47,
   "metadata": {},
   "outputs": [],
   "source": [
    "# 'H','OBP','SLG','ISO','Babip','RC','K','BB','RBI','K/B','HR','PitH','PitOBP','PitSLG','PitOPS','PitHR','EAR','PitB','PitK','PitK/B','WHIP'"
   ]
  },
  {
   "cell_type": "code",
   "execution_count": 63,
   "metadata": {},
   "outputs": [],
   "source": [
    "y_cols = ['_team_won?_x']\n",
    "select = ['H','OBP','SLG','ISO','Babip','RC','K','BB','RBI','K/B','HR','PitH','PitOBP','PitSLG','PitOPS','PitHR','ERA','PitB','PitK','PitK/B','WHIP']\n",
    "#select = ['H', 'D', 'T', 'HR', 'RBI', 'BB']\n",
    "x_cols = [i+'_x' for i in select]\n",
    "x_cols += [i+'_y' for i in select]\n",
    "train = train.dropna()\n",
    "test = test.dropna()\n"
   ]
  },
  {
   "cell_type": "code",
   "execution_count": 22,
   "metadata": {},
   "outputs": [
    {
     "data": {
      "text/plain": [
       "'\\ndiv\\nX_train = np.log(X_train[x_].to_numpy()) - np.log(X_train[y_].to_numpy()+1e-6)\\nX_test = np.log(X_test[x_].to_numpy()) - np.log(X_test[y_].to_numpy()+1e-6)\\n'"
      ]
     },
     "execution_count": 22,
     "metadata": {},
     "output_type": "execute_result"
    }
   ],
   "source": [
    "y_train = train[y_cols]*1\n",
    "y_test = test[y_cols]*1\n",
    "\n",
    "X_train = train[x_cols]\n",
    "X_test = test[x_cols]\n",
    "x_ = [i+'_x' for i in select]\n",
    "y_ = [i+'_y' for i in select]\n",
    "'''\n",
    "diff\n",
    "X_train = X_train[x_].to_numpy() - X_train[y_].to_numpy()\n",
    "X_test = X_test[x_].to_numpy() - X_test[y_].to_numpy()\n",
    "'''\n",
    "\n",
    "'''\n",
    "div\n",
    "X_train = np.log(X_train[x_].to_numpy()) - np.log(X_train[y_].to_numpy()+1e-6)\n",
    "X_test = np.log(X_test[x_].to_numpy()) - np.log(X_test[y_].to_numpy()+1e-6)\n",
    "'''"
   ]
  },
  {
   "cell_type": "code",
   "execution_count": 71,
   "metadata": {},
   "outputs": [],
   "source": [
    "'''\n",
    "    Z-score normalization\n",
    "'''\n",
    "scaler = StandardScaler()\n",
    "scaler.fit(train[x_cols])\n",
    "X_train = scaler.transform(train[x_cols])\n",
    "X_test = scaler.transform(test[x_cols])"
   ]
  },
  {
   "cell_type": "code",
   "execution_count": 76,
   "metadata": {},
   "outputs": [
    {
     "name": "stdout",
     "output_type": "stream",
     "text": [
      "Optimization terminated successfully.\n",
      "         Current function value: 0.679924\n",
      "         Iterations 6\n",
      "                           Logit Regression Results                           \n",
      "==============================================================================\n",
      "Dep. Variable:           _team_won?_x   No. Observations:                21979\n",
      "Model:                          Logit   Df Residuals:                    21943\n",
      "Method:                           MLE   Df Model:                           35\n",
      "Date:                Wed, 04 May 2022   Pseudo R-squ.:                 0.01522\n",
      "Time:                        16:48:52   Log-Likelihood:                -14944.\n",
      "converged:                       True   LL-Null:                       -15175.\n",
      "Covariance Type:            nonrobust   LLR p-value:                 6.259e-76\n",
      "==============================================================================\n",
      "                 coef    std err          z      P>|z|      [0.025      0.975]\n",
      "------------------------------------------------------------------------------\n",
      "H_x            4.6667        nan        nan        nan         nan         nan\n",
      "OBP_x          3.9543        nan        nan        nan         nan         nan\n",
      "SLG_x          5.2902   2.16e+06   2.44e-06      1.000   -4.24e+06    4.24e+06\n",
      "ISO_x          0.6235   2.17e+06   2.88e-07      1.000   -4.24e+06    4.24e+06\n",
      "Babip_x        3.2733      3.023      1.083      0.279      -2.652       9.198\n",
      "RC_x         -24.4503      7.040     -3.473      0.001     -38.248     -10.652\n",
      "K_x           -0.0004      0.000     -1.195      0.232      -0.001       0.000\n",
      "BB_x          -0.7124        nan        nan        nan         nan         nan\n",
      "RBI_x          0.0021      0.004      0.530      0.596      -0.006       0.010\n",
      "K/B_x         -0.1362      0.184     -0.739      0.460      -0.498       0.225\n",
      "HR_x           4.2325      7.399      0.572      0.567     -10.269      18.734\n",
      "PitH_x       -26.4483      7.734     -3.420      0.001     -41.607     -11.290\n",
      "PitOBP_x      45.1652   1.02e+05      0.000      1.000   -1.99e+05       2e+05\n",
      "PitSLG_x     -35.0885   8.83e+04     -0.000      1.000   -1.73e+05    1.73e+05\n",
      "PitOPS_x      10.0767   1.11e+05   9.09e-05      1.000   -2.17e+05    2.17e+05\n",
      "PitHR_x       41.5148     12.787      3.247      0.001      16.452      66.578\n",
      "ERA_x          4.3243      2.718      1.591      0.112      -1.003       9.652\n",
      "PitB_x       -43.2090     12.333     -3.504      0.000     -67.381     -19.037\n",
      "PitK_x        22.8315     19.221      1.188      0.235     -14.840      60.503\n",
      "PitK/B_x     -12.3777     11.674     -1.060      0.289     -35.258      10.503\n",
      "WHIP_x         0.8744      4.401      0.199      0.842      -7.751       9.500\n",
      "H_y           -2.9053   2.39e+06  -1.21e-06      1.000   -4.69e+06    4.69e+06\n",
      "OBP_y         -3.7934   2.14e+06  -1.77e-06      1.000   -4.19e+06    4.19e+06\n",
      "SLG_y         -3.7184   7.34e+05  -5.06e-06      1.000   -1.44e+06    1.44e+06\n",
      "ISO_y         -0.8130   7.34e+05  -1.11e-06      1.000   -1.44e+06    1.44e+06\n",
      "Babip_y       -1.0104      1.353     -0.747      0.455      -3.662       1.641\n",
      "RC_y          16.8971      3.708      4.557      0.000       9.630      24.164\n",
      "K_y            0.0005      0.000      1.459      0.145      -0.000       0.001\n",
      "BB_y          -0.8881   2.14e+06  -4.15e-07      1.000   -4.19e+06    4.19e+06\n",
      "RBI_y         -0.0078      0.070     -0.111      0.911      -0.145       0.129\n",
      "K/B_y          0.0088      0.089      0.099      0.921      -0.165       0.183\n",
      "HR_y          -6.5327      3.922     -1.666      0.096     -14.219       1.153\n",
      "PitH_y        11.8698      3.722      3.189      0.001       4.574      19.166\n",
      "PitOBP_y     -19.9126        nan        nan        nan         nan         nan\n",
      "PitSLG_y      14.5966        nan        nan        nan         nan         nan\n",
      "PitOPS_y      -5.3161        nan        nan        nan         nan         nan\n",
      "PitHR_y       -8.0957      6.437     -1.258      0.208     -20.711       4.520\n",
      "ERA_y         -1.9437      1.507     -1.290      0.197      -4.898       1.011\n",
      "PitB_y         8.5792      5.262      1.630      0.103      -1.735      18.893\n",
      "PitK_y        11.2409      9.186      1.224      0.221      -6.763      29.245\n",
      "PitK/B_y      -7.5461      5.630     -1.340      0.180     -18.581       3.489\n",
      "WHIP_y         1.2827      2.142      0.599      0.549      -2.916       5.481\n",
      "==============================================================================\n",
      "Train accuracy =  0.5653578415760498\n",
      "Test accuracy =  0.5948449456302859\n"
     ]
    }
   ],
   "source": [
    "X_train = train[x_cols]\n",
    "y_train = train[y_cols]*1\n",
    "\n",
    "X_test = test[x_cols]\n",
    "y_test = test[y_cols]*1\n",
    "\n",
    "model = sm.Logit(y_train,X_train)\n",
    "results = model.fit()\n",
    "print(results.summary())\n",
    "\n",
    "y_hat = results.predict( X_train)\n",
    "y_hat = list(map(round,y_hat))\n",
    "print('Train accuracy = ', accuracy_score(y_train, y_hat))\n",
    "\n",
    "y_hat = results.predict( X_test)\n",
    "y_hat = list(map(round,y_hat))\n",
    "print('Test accuracy = ', accuracy_score(y_test, y_hat))"
   ]
  },
  {
   "cell_type": "code",
   "execution_count": 73,
   "metadata": {},
   "outputs": [],
   "source": [
    "num_thread = 8\n",
    "# num of cpu "
   ]
  },
  {
   "cell_type": "code",
   "execution_count": 74,
   "metadata": {},
   "outputs": [
    {
     "name": "stdout",
     "output_type": "stream",
     "text": [
      "{'max_depth': 6, 'num_leaves': 8}\n",
      "0.5791381393475634\n"
     ]
    }
   ],
   "source": [
    "param ={'num_leaves':[4,6,8,10,20],'max_depth':[-1,3,6,9,12,15]}\n",
    "lgb =LGBMClassifier()\n",
    "lgb_clf = GridSearchCV(lgb,param,scoring='accuracy',n_jobs=num_thread)\n",
    "lgb_results = lgb_clf.fit(X_train, y_train.values.ravel(), eval_metric=['logloss'],eval_set=[(X_test, y_test.values.ravel())],callbacks=[lightgbm.early_stopping(10, verbose=0)])\n",
    "\n",
    "train_score = lgb_results.score(X_train, y_train)\n",
    "test_score = lgb_results.score(X_test, y_test)\n",
    "print(lgb_results.best_params_)\n",
    "print(test_score)"
   ]
  },
  {
   "cell_type": "code",
   "execution_count": 75,
   "metadata": {},
   "outputs": [
    {
     "name": "stdout",
     "output_type": "stream",
     "text": [
      "{'max_depth': 6, 'min_samples_split': 20}\n",
      "0.5819573097060008\n"
     ]
    }
   ],
   "source": [
    "rf_param ={'min_samples_split':[4,6,8,10,20],'max_depth':[-1,3,6,9,12,15]}\n",
    "rf =RandomForestClassifier()\n",
    "rf_clf = GridSearchCV(rf,rf_param,scoring='accuracy',n_jobs=num_thread)\n",
    "rf_results = rf_clf.fit(X_train,  y_train.values.ravel())\n",
    "\n",
    "\n",
    "train_score = rf_results.score(X_train, y_train)\n",
    "test_score = rf_results.score(X_test, y_test)\n",
    "print(rf_results.best_params_)\n",
    "print(test_score)"
   ]
  },
  {
   "cell_type": "code",
   "execution_count": null,
   "metadata": {},
   "outputs": [],
   "source": [
    "param_range = [0.001, 0.01, 0.1, 1.0, 10.0, 100.0] \n",
    "svm_param  = [{'C': param_range, 'kernel': ['linear']}, {'C': param_range, 'gamma': param_range, 'kernel': ['rbf']}]\n",
    "svm_model =svm.SVC()\n",
    "svm_clf = GridSearchCV(estimator=svm_model,param_grid=svm_param,scoring='accuracy',n_jobs=num_thread,verbose=0)\n",
    "svm_results = svm_clf.fit(X_train, y_train.values.ravel())\n",
    "\n",
    "train_score = svm_results.score(X_train, y_train)\n",
    "test_score = svm_results.score(X_test, y_test)\n",
    "print(svm_results.best_params_)\n",
    "print(test_score)"
   ]
  }
 ],
 "metadata": {
  "interpreter": {
   "hash": "bf4612eeba4b4211688d3a2d5dc5ccfa9bf773e8cc9ac21a43d17f733242559a"
  },
  "kernelspec": {
   "display_name": "Python 3.9.6 ('Fashion-How': conda)",
   "language": "python",
   "name": "python3"
  },
  "language_info": {
   "codemirror_mode": {
    "name": "ipython",
    "version": 3
   },
   "file_extension": ".py",
   "mimetype": "text/x-python",
   "name": "python",
   "nbconvert_exporter": "python",
   "pygments_lexer": "ipython3",
   "version": "3.9.12"
  },
  "orig_nbformat": 4
 },
 "nbformat": 4,
 "nbformat_minor": 2
}
