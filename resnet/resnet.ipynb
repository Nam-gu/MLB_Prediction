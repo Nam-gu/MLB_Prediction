{
  "cells": [
    {
      "cell_type": "markdown",
      "metadata": {
        "id": "view-in-github",
        "colab_type": "text"
      },
      "source": [
        "<a href=\"https://colab.research.google.com/github/Nam-gu/MLB_Prediction/blob/main/resnet/resnet.ipynb\" target=\"_parent\"><img src=\"https://colab.research.google.com/assets/colab-badge.svg\" alt=\"Open In Colab\"/></a>"
      ]
    },
    {
      "cell_type": "code",
      "execution_count": 1,
      "metadata": {
        "colab": {
          "base_uri": "https://localhost:8080/"
        },
        "id": "QhiMwEQmzs9W",
        "outputId": "16d90373-826e-458c-997c-2719127281ca"
      },
      "outputs": [
        {
          "output_type": "stream",
          "name": "stderr",
          "text": [
            "/usr/local/lib/python3.7/dist-packages/statsmodels/tools/_testing.py:19: FutureWarning: pandas.util.testing is deprecated. Use the functions in the public API at pandas.testing instead.\n",
            "  import pandas.util.testing as tm\n"
          ]
        }
      ],
      "source": [
        "import pandas as pd\n",
        "import numpy as np\n",
        "import matplotlib.pyplot as plt\n",
        "import seaborn as sns\n",
        "sns.set()\n",
        "%matplotlib inline\n",
        "from sklearn.ensemble import RandomForestClassifier\n",
        "from sklearn.ensemble import GradientBoostingClassifier\n",
        "from sklearn.ensemble import AdaBoostClassifier\n",
        "from sklearn.model_selection import GridSearchCV\n",
        "from sklearn.model_selection import cross_val_score\n",
        "from sklearn import metrics\n",
        "import statsmodels.api as sm\n",
        "from sklearn.metrics import accuracy_score\n",
        "import lightgbm\n",
        "from lightgbm import LGBMClassifier\n",
        "from sklearn import svm\n",
        "from sklearn.preprocessing import StandardScaler\n",
        "import warnings\n",
        "warnings.filterwarnings('ignore')"
      ]
    },
    {
      "cell_type": "code",
      "source": [
        "from google.colab import drive\n",
        "drive.mount('/content/drive')"
      ],
      "metadata": {
        "colab": {
          "base_uri": "https://localhost:8080/"
        },
        "id": "--8HQOaezx_H",
        "outputId": "46d6af27-2698-418e-89a6-ab41b11579e0"
      },
      "execution_count": 2,
      "outputs": [
        {
          "output_type": "stream",
          "name": "stdout",
          "text": [
            "Drive already mounted at /content/drive; to attempt to forcibly remount, call drive.mount(\"/content/drive\", force_remount=True).\n"
          ]
        }
      ]
    },
    {
      "cell_type": "code",
      "source": [
        "cd drive/MyDrive/MLP_Prediction/MLB_Prediction/"
      ],
      "metadata": {
        "colab": {
          "base_uri": "https://localhost:8080/"
        },
        "id": "yoNS6ZZE7ijN",
        "outputId": "77ed4d8d-a58e-4c85-b07c-2c0af1aeba2c"
      },
      "execution_count": 169,
      "outputs": [
        {
          "output_type": "stream",
          "name": "stdout",
          "text": [
            "[Errno 2] No such file or directory: 'drive/MyDrive/MLP_Prediction/MLB_Prediction/'\n",
            "/content/drive/MyDrive/MLP_Prediction/MLB_Prediction\n"
          ]
        }
      ]
    },
    {
      "cell_type": "code",
      "execution_count": 170,
      "metadata": {
        "id": "BwmzAGnAzs9c"
      },
      "outputs": [],
      "source": [
        "file = './data/Retrosheet_2010_2019/2010_to_2019_seasons.csv'\n",
        "game_df = pd.read_csv(file)\n",
        "\n",
        "game_col_del = '''VisitorGDP,VisitorCI,HomeGDP,HomeCI, DoubleHeader, DayOfWeek, VisitingTeamLeague, HomeTeamLeague, DayNight, CompletionInfo,ForfeitInfo, ProtestInfo,Attendence, Duration, VisitorLineScore, HomeLineScore, UmpireHID, UmpireHName, Umpire1BID, Umpire1BName, Umpire2BID,Umpire2BName, Umpire3BID, Umpire3BName, UmpireLFID, UmpireLFName, UmpireRFID,UmpireRFName, VisitorManagerID, VisitorManagerName, HomeManagerID, HomeManagerName,WinningPitcherID, WinningPitcherName, LosingPitcherID, LosingPitcherNAme,SavingPitcherID, SavingPitcherName, GameWinningRBIID, GameWinningRBIName, VisitorBatting1Position, VisitorBatting2Position, VisitorBatting3Position,VisitorBatting4Position, VisitorBatting5Position, VisitorBatting6Position,VisitorBatting7Position, VisitorBatting8Position, VisitorBatting9Position,HomeBatting1Position, HomeBatting2Position, HomeBatting3Position,HomeBatting4Position, HomeBatting5Position, HomeBatting6Position,HomeBatting7Position, HomeBatting8Position, HomeBatting9Position,AdditionalInfo, AcquisitionInfo'''\n",
        "game_col_del = game_col_del.replace(\" \", \"\")\n",
        "game_col_del = game_col_del.split(\",\")\n",
        "\n",
        "game_df.drop(game_col_del,axis=1,inplace=True)\n",
        "\n",
        "\n",
        "col_del = ['VisitorBatting1PlayerID', 'VisitorBatting1Name', 'VisitorBatting2PlayerID', 'VisitorBatting2Name', 'VisitorBatting3PlayerID', 'VisitorBatting3Name', 'VisitorBatting4PlayerID', 'VisitorBatting4Name', 'VisitorBatting5PlayerID', 'VisitorBatting5Name', 'VisitorBatting6PlayerID', 'VisitorBatting6Name', 'VisitorBatting7PlayerID', 'VisitorBatting7Name', 'VisitorBatting8PlayerID', 'VisitorBatting8Name', 'VisitorBatting9PlayerID', 'VisitorBatting9Name', 'HomeBatting1PlayerID', 'HomeBatting1Name', 'HomeBatting2PlayerID', 'HomeBatting2Name', 'HomeBatting3PlayerID', 'HomeBatting3Name', 'HomeBatting4PlayerID', 'HomeBatting4Name', 'HomeBatting5PlayerID', 'HomeBatting5Name', 'HomeBatting6PlayerID', 'HomeBatting6Name', 'HomeBatting7PlayerID', 'HomeBatting7Name', 'HomeBatting8PlayerID', 'HomeBatting8Name', 'HomeBatting9PlayerID', 'HomeBatting9Name']\n",
        "game_df.drop(col_del,axis=1,inplace=True)\n",
        "game_df = game_df.rename(columns={\"VisitingTeam\":\"VisitorTeam\",\"VisitingTeamGameNumber\":\"VisitorTeamGameNumber\"})"
      ]
    },
    {
      "cell_type": "code",
      "execution_count": 171,
      "metadata": {
        "id": "X67lCWrnzs9e"
      },
      "outputs": [],
      "source": [
        "away_inning = game_df['LengthInOuts']//2\n",
        "home_inning = game_df['LengthInOuts']- away_inning\n",
        "\n",
        "\n",
        "game_df['VisitorOffInn'] = away_inning\n",
        "game_df['VisitorDifInn'] = home_inning\n",
        "game_df['HomeOffInn'] = home_inning\n",
        "game_df['HomeDifInn'] = away_inning\n",
        "\n",
        "game_df['Date'] = pd.to_datetime(game_df['Date'].astype(str), format='%Y%m%d')\n",
        "game_df['current_year'] = game_df['Date'].dt.year\n",
        "game_df['Home_team_won?'] = game_df['HomeRunsScore'] > game_df['VisitorRunsScored']\n",
        "game_df['Visitor_team_won?'] = game_df['HomeRunsScore'] < game_df['VisitorRunsScored']"
      ]
    },
    {
      "cell_type": "code",
      "execution_count": 172,
      "metadata": {
        "id": "vGTtmtdHzs9g"
      },
      "outputs": [],
      "source": [
        "bat_stat = [ 'TeamGameNumber','Team','AB','H','D','T','HR','RBI','SH','SF',\n",
        "'HBP','BB','IBB','K','SB','CS','LOB','Pitchers',\n",
        "'ER','TER','WP','Balks','PO','A','E','Passed','DB','TP','OffInn','DifInn','_team_won?']\n",
        "pit_stat = ['H', 'D', 'T', 'HR', 'RBI', 'SH', 'SF', 'HBP', 'BB', 'IBB', 'K', 'LOB', 'ER','DB','AB']"
      ]
    },
    {
      "cell_type": "code",
      "execution_count": 173,
      "metadata": {
        "id": "wy48Wnexzs9h"
      },
      "outputs": [],
      "source": [
        "select_stat = ['Date']\n",
        "select_stat += ['Home'+i for i in bat_stat]+['Visitor'+i for i in pit_stat]\n",
        "rename1 = {'Visitor'+i:'Pit'+i for i in pit_stat}\n",
        "rename2 = {'Home'+i:i for i in bat_stat}"
      ]
    },
    {
      "cell_type": "code",
      "execution_count": 174,
      "metadata": {
        "id": "gx4Aijw7zs9i"
      },
      "outputs": [],
      "source": [
        "## Home 시각 \n",
        "select_stat = ['Date']\n",
        "select_stat += ['Home'+i for i in bat_stat]+['Visitor'+i for i in pit_stat]\n",
        "rename1 = {'Visitor'+i:'Pit'+i for i in pit_stat}\n",
        "rename2 = {'Home'+i:i for i in bat_stat}\n",
        "Home = game_df.copy()\n",
        "Home = Home[select_stat].rename(columns=rename1)\n",
        "Home = Home.rename(columns=rename2)\n",
        "# away 시각\n",
        "select_stat = ['Date']\n",
        "select_stat += ['Visitor'+i for i in bat_stat]+['Home'+i for i in pit_stat]\n",
        "rename1 = {'Home'+i:'Pit'+i for i in pit_stat}\n",
        "rename2 = {'Visitor'+i:i for i in bat_stat}\n",
        "Visitor = game_df.copy()\n",
        "Visitor = Visitor[select_stat].rename(columns=rename1)\n",
        "Visitor = Visitor.rename(columns=rename2)"
      ]
    },
    {
      "cell_type": "code",
      "execution_count": 175,
      "metadata": {
        "id": "HofC6YbQzs9i"
      },
      "outputs": [],
      "source": [
        "sep_team = pd.concat([Home,Visitor])\n",
        "sep_team = sep_team.rename(columns={'PitDB':'DP'})"
      ]
    },
    {
      "cell_type": "code",
      "execution_count": 176,
      "metadata": {
        "id": "Sa7_vz05zs9j"
      },
      "outputs": [],
      "source": [
        "col = ['AB', 'H', 'D', 'T', 'HR', 'RBI','DP',\n",
        "       'SF', 'BB', 'K', 'SB', 'CS', 'LOB', 'Pitchers', 'ER', 'TER', 'WP','PitAB',\n",
        "       'Balks', 'PO', 'A', 'E', 'Passed', 'DB', 'TP', 'OffInn', 'DifInn',\n",
        "       'PitH', 'PitD', 'PitT', 'PitHR', 'PitRBI', 'PitSF',\n",
        "       'PitBB', 'PitK', 'PitLOB', 'PitER']"
      ]
    },
    {
      "cell_type": "code",
      "execution_count": 177,
      "metadata": {
        "id": "UwSfzc-Nzs9l"
      },
      "outputs": [],
      "source": [
        "a = sep_team.copy()\n",
        "sep_team['year']= sep_team.Date.dt.year\n",
        "# sep_team[col] = sep_team.groupby(['year','Team'])[col].transform(lambda x: x.expanding(1).sum())\n",
        "# sep_team[col] = sep_team[col].subtract(a[col])\n",
        "sep_team[col] = sep_team.groupby(['year','Team'])[col].transform(lambda x: x.rolling(window=5,closed='left').sum())\n",
        "sep_team = sep_team[sep_team['TeamGameNumber']>=10]"
      ]
    },
    {
      "cell_type": "code",
      "execution_count": 178,
      "metadata": {
        "id": "1Hp-bJ8-zs9m"
      },
      "outputs": [],
      "source": [
        "select_feature = ['Date', 'TeamGameNumber', 'Team','_team_won?']\n",
        "# feature selection\n",
        "select_feature += ['AB', 'H', 'D', 'T', 'HR', 'RBI','BB', 'K','DP', 'HBP','IBB','SF','SH',#bat stat\n",
        "                    'ER','OffInn','DifInn' # game info\n",
        "                    ,'PitAB','PitH', 'PitD', 'PitT', 'PitHR', 'PitRBI', 'PitSF', 'PitBB',\"PitIBB\",\"PitHBP\" ,'PitK','PitLOB', 'PitER'\n",
        "                    ]\n"
      ]
    },
    {
      "cell_type": "code",
      "execution_count": 179,
      "metadata": {
        "id": "gbftVA9Uzs9n"
      },
      "outputs": [],
      "source": [
        "sep = sep_team[select_feature] "
      ]
    },
    {
      "cell_type": "code",
      "execution_count": 180,
      "metadata": {
        "id": "EI7WWdShzs9n"
      },
      "outputs": [],
      "source": [
        "# H, OBP, SLG, ISO, Babip, RC, wOBA X, K, BB, RBI, K/B, HR   \n",
        "# 타자 가공\n",
        "sep['RC'] = ((sep['H']+sep['BB']+sep['HBP']-sep['DP'])\n",
        "        *(sep['H']+2*sep['D']+3*sep['T']+4*sep['HR']+0.52*(sep['SF']+sep['SH'])+0.26*(sep['BB']+sep['HBP']-sep['IBB']))\n",
        "        )/(sep['AB']*sep['AB']) #득점 생산\n",
        "\n",
        "\n",
        "#사구,사사구, 고의사구 통합\n",
        "sep['BB'] += sep['HBP']+sep['IBB']\n",
        "sep['PitBB'] += sep['PitHBP']+sep['PitIBB']\n",
        "#del sep['HBP'],sep['IBB'],sep['PitHBP'],sep['PitIBB']\n",
        "# 희생번트, 희생플라이 통합\n",
        "sep['PitSF'] += sep_team['PitSH']\n",
        "sep['SF'] += sep['SH']\n",
        "#del sep['SH'],sep['PitSH']\n",
        "\n",
        "sep['K/B'] = sep['K']/(sep['BB']+0.5)\n",
        "sep['PA'] = sep['AB'] - sep['BB'] - sep['SF'] # 타수\n",
        "sep['Babip'] = (sep['H']+sep['D']+sep['T']) / (sep['PA']-sep['K']-sep['HR']-sep['SF']) # 인플레이 타구\n",
        "sep['SLG'] = (sep['H']+2*sep['D']+3*sep['T']+4*sep['HR'])/sep['PA'] # 장타율\n",
        "sep['H'] = sep['H']/sep['PA'] # 안타율\n",
        "sep['D'] = sep['D']/sep['PA'] # 안타율\n",
        "sep['T'] = sep['T']/sep['PA'] # 안타율\n",
        "sep['HR'] = sep['HR']/sep['PA'] # 안타율\n",
        "sep['BB'] = sep['BB']/sep['PA'] # 볼넷\n",
        "# sep['RBI'] = sep['RBI']/sep['TeamGameNumber'] # 득점\n",
        "# sep['K'] = sep['K']/sep['TeamGameNumber']\n",
        "sep['RBI'] = sep['RBI']/5 # 득점\n",
        "sep['K'] = sep['K']/5\n",
        "\n",
        "sep['OBP'] = (sep['H']+sep['BB']) #출루율\n",
        "sep['OPS'] = sep['SLG']+sep['OBP'] #OPS\n",
        "sep['GPA'] = (1.8*sep['OBP']+sep['SLG'])/4#GPA(Gross Production Average) - park factor를 적용해야함\n",
        "sep['ISO'] = sep['SLG'] - sep['H']\n"
      ]
    },
    {
      "cell_type": "code",
      "execution_count": 181,
      "metadata": {
        "id": "ZbqhUmpPzs9o"
      },
      "outputs": [],
      "source": [
        "# 투수 가공\n",
        "# PitH, PitOBP, PitSLG, PitOPS, PitHR, EAR, PitB, PitK, PitK/B, WHIP, kwERA\n",
        "sep['ERA'] = sep['PitER']/sep['DifInn']\n",
        "sep['TotalH'] = sep['PitH']+sep['PitD']+sep['PitT']+sep['PitHR']\n",
        "sep['TotalBB'] = sep['PitBB']+sep['PitHBP']\n",
        "sep['PitPA'] = sep['PitAB'] - sep['TotalBB'] - sep['PitSF']\n",
        "sep['kwERA'] = (5.40-12*(sep['PitK'] - sep['TotalBB']))/sep['PitPA']\n",
        "sep['WHIP'] = (sep['TotalH']+sep['TotalBB'])/sep['DifInn']\n",
        "sep['PitK'] = sep['PitK']/sep['DifInn']\n",
        "sep['PitB'] = sep['TotalBB']/sep['DifInn']\n",
        "sep['PitK/B'] = sep['PitK']/(sep['PitB']+0.5)\n",
        "\n",
        "\n",
        "sep['PitSLG'] = (sep['PitH']+2*sep['PitD']+3*sep['PitT']+4*sep['PitHR'])/sep['PitPA'] # 피장타율\n",
        "sep['PitH'] = sep['PitH']/sep['PitPA'] # 피안타율\n",
        "sep['PitOBP'] = (sep['TotalH']+sep['TotalBB']) / sep['PitAB'] #피출루율\n",
        "sep['PitOPS'] = sep['PitSLG']+sep['PitOBP'] #피OPS\n",
        "sep['PitHR'] /= sep['PitPA']"
      ]
    },
    {
      "cell_type": "code",
      "source": [
        "sep.min()"
      ],
      "metadata": {
        "colab": {
          "base_uri": "https://localhost:8080/"
        },
        "id": "Mu_QRUDf_UuZ",
        "outputId": "2c233e78-49a0-42b4-cd82-231852c2a84d"
      },
      "execution_count": 183,
      "outputs": [
        {
          "output_type": "execute_result",
          "data": {
            "text/plain": [
              "Date              2010-04-14 00:00:00\n",
              "TeamGameNumber                     10\n",
              "Team                              ANA\n",
              "_team_won?                      False\n",
              "AB                              134.0\n",
              "H                             0.10687\n",
              "D                                 0.0\n",
              "T                                 0.0\n",
              "HR                                0.0\n",
              "RBI                               0.4\n",
              "BB                           0.005848\n",
              "K                                 1.8\n",
              "DP                                0.0\n",
              "HBP                                 0\n",
              "IBB                                 0\n",
              "SF                                0.0\n",
              "SH                                  0\n",
              "ER                                1.0\n",
              "OffInn                          115.0\n",
              "DifInn                          112.0\n",
              "PitAB                           136.0\n",
              "PitH                         0.113475\n",
              "PitD                              0.0\n",
              "PitT                              0.0\n",
              "PitHR                             0.0\n",
              "PitRBI                            1.0\n",
              "PitSF                             0.0\n",
              "PitBB                             1.0\n",
              "PitIBB                              0\n",
              "PitHBP                              0\n",
              "PitK                         0.099237\n",
              "PitLOB                           12.0\n",
              "PitER                             2.0\n",
              "RC                           0.026911\n",
              "K/B                          0.553846\n",
              "PA                              102.0\n",
              "Babip                        0.164835\n",
              "SLG                          0.148936\n",
              "OBP                          0.170213\n",
              "OPS                          0.340426\n",
              "GPA                          0.123404\n",
              "ISO                          0.014286\n",
              "ERA                          0.014184\n",
              "TotalH                           22.0\n",
              "TotalBB                           1.0\n",
              "PitPA                           107.0\n",
              "kwERA                       -4.933758\n",
              "WHIP                         0.217391\n",
              "PitB                         0.007092\n",
              "PitK/B                       0.152047\n",
              "PitSLG                       0.177305\n",
              "PitOBP                            0.2\n",
              "PitOPS                       0.399527\n",
              "dtype: object"
            ]
          },
          "metadata": {},
          "execution_count": 183
        }
      ]
    },
    {
      "cell_type": "code",
      "execution_count": 184,
      "metadata": {
        "id": "wSUB5GNjzs9p"
      },
      "outputs": [],
      "source": [
        "\n",
        "#temp = sep[['Date', 'TeamGameNumber', 'Team', '_team_won?','GPA', 'OPS','OBP','H','SLG','Babip','RC']]\n",
        "temp = sep\n",
        "game_log = game_df[['Date','VisitorTeam','HomeTeam','VisitorTeamGameNumber','HomeTeamGameNumber']]\n",
        "\n",
        "game_log = game_log[game_log.VisitorTeamGameNumber>=10]\n",
        "game_log = game_log[game_log.HomeTeamGameNumber>=10]\n",
        "\n",
        "game_log = pd.merge(game_log,temp,left_on = ['Date','VisitorTeam'], right_on = ['Date','Team'],how='left')\n",
        "game_log = pd.merge(game_log,temp,left_on = ['Date','HomeTeam'], right_on = ['Date','Team'],how='left')\n",
        "\n",
        "game_log['year'] = game_log.Date.dt.year\n",
        "train = game_log[game_log.year!=2019]\n",
        "test = game_log[game_log.year==2019]"
      ]
    },
    {
      "cell_type": "code",
      "execution_count": 89,
      "metadata": {
        "id": "GN794XKmzs9p"
      },
      "outputs": [],
      "source": [
        "# 'H','OBP','SLG','ISO','Babip','RC','K','BB','RBI','K/B','HR','PitH','PitOBP','PitSLG','PitOPS','PitHR','EAR','PitB','PitK','PitK/B','WHIP'"
      ]
    },
    {
      "cell_type": "code",
      "execution_count": 185,
      "metadata": {
        "id": "AHDnLSbizs9q"
      },
      "outputs": [],
      "source": [
        "y_cols = ['_team_won?_x']\n",
        "select = ['H','OBP','SLG','ISO','Babip','RC','K','BB','RBI','K/B','HR','PitH','PitOBP','PitSLG','PitOPS','PitHR','ERA','PitB','PitK','PitK/B','WHIP']\n",
        "#select = ['H', 'D', 'T', 'HR', 'RBI', 'BB']\n",
        "x_cols = [i+'_x' for i in select]\n",
        "x_cols += [i+'_y' for i in select]\n",
        "train = train.dropna()\n",
        "test = test.dropna()\n"
      ]
    },
    {
      "cell_type": "code",
      "execution_count": 186,
      "metadata": {
        "colab": {
          "base_uri": "https://localhost:8080/",
          "height": 56
        },
        "id": "F7XPLgHEzs9q",
        "outputId": "61819b3f-0a29-4645-9aad-d72425934fd9"
      },
      "outputs": [
        {
          "output_type": "execute_result",
          "data": {
            "text/plain": [
              "'\\ndiv\\nX_train = np.log(X_train[x_].to_numpy()) - np.log(X_train[y_].to_numpy()+1e-6)\\nX_test = np.log(X_test[x_].to_numpy()) - np.log(X_test[y_].to_numpy()+1e-6)\\n'"
            ],
            "application/vnd.google.colaboratory.intrinsic+json": {
              "type": "string"
            }
          },
          "metadata": {},
          "execution_count": 186
        }
      ],
      "source": [
        "y_train = train[y_cols]*1\n",
        "y_test = test[y_cols]*1\n",
        "\n",
        "X_train = train[x_cols]\n",
        "X_test = test[x_cols]\n",
        "x_ = [i+'_x' for i in select]\n",
        "y_ = [i+'_y' for i in select]\n",
        "'''\n",
        "diff\n",
        "X_train = X_train[x_].to_numpy() - X_train[y_].to_numpy()\n",
        "X_test = X_test[x_].to_numpy() - X_test[y_].to_numpy()\n",
        "'''\n",
        "\n",
        "'''\n",
        "div\n",
        "X_train = np.log(X_train[x_].to_numpy()) - np.log(X_train[y_].to_numpy()+1e-6)\n",
        "X_test = np.log(X_test[x_].to_numpy()) - np.log(X_test[y_].to_numpy()+1e-6)\n",
        "'''"
      ]
    },
    {
      "cell_type": "code",
      "execution_count": 120,
      "metadata": {
        "id": "FASnjSFPzs9r"
      },
      "outputs": [],
      "source": [
        "'''\n",
        "    Z-score normalization\n",
        "'''\n",
        "scaler = StandardScaler()\n",
        "scaler.fit(train[x_cols])\n",
        "X_train = scaler.transform(train[x_cols])\n",
        "X_test = scaler.transform(test[x_cols])"
      ]
    },
    {
      "cell_type": "code",
      "execution_count": 121,
      "metadata": {
        "colab": {
          "base_uri": "https://localhost:8080/"
        },
        "id": "8QSAmjHizs9s",
        "outputId": "484a52fc-baeb-47b6-da7b-f0ba045976be"
      },
      "outputs": [
        {
          "output_type": "stream",
          "name": "stdout",
          "text": [
            "Optimization terminated successfully.\n",
            "         Current function value: 0.679886\n",
            "         Iterations 8\n",
            "                           Logit Regression Results                           \n",
            "==============================================================================\n",
            "Dep. Variable:           _team_won?_x   No. Observations:                21979\n",
            "Model:                          Logit   Df Residuals:                    21943\n",
            "Method:                           MLE   Df Model:                           35\n",
            "Date:                Fri, 06 May 2022   Pseudo R-squ.:                 0.01527\n",
            "Time:                        11:20:58   Log-Likelihood:                -14943.\n",
            "converged:                       True   LL-Null:                       -15175.\n",
            "Covariance Type:            nonrobust   LLR p-value:                 2.894e-76\n",
            "==============================================================================\n",
            "                 coef    std err          z      P>|z|      [0.025      0.975]\n",
            "------------------------------------------------------------------------------\n",
            "H_x            5.7392   1.43e+06   4.02e-06      1.000    -2.8e+06     2.8e+06\n",
            "OBP_x          3.4617   1.49e+06   2.32e-06      1.000   -2.92e+06    2.92e+06\n",
            "SLG_x          5.5651        nan        nan        nan         nan         nan\n",
            "ISO_x          0.9174        nan        nan        nan         nan         nan\n",
            "Babip_x        2.5379      2.803      0.906      0.365      -2.955       8.031\n",
            "RC_x         -24.7150      7.033     -3.514      0.000     -38.499     -10.931\n",
            "K_x           -0.0036      0.007     -0.498      0.619      -0.018       0.010\n",
            "BB_x          -1.7108   1.49e+06  -1.15e-06      1.000   -2.92e+06    2.92e+06\n",
            "RBI_x          0.0077      0.013      0.599      0.549      -0.017       0.033\n",
            "K/B_x         -0.2217      0.179     -1.239      0.215      -0.573       0.129\n",
            "HR_x           2.7548      7.050      0.391      0.696     -11.063      16.573\n",
            "PitH_x       -26.0499      7.703     -3.382      0.001     -41.148     -10.952\n",
            "PitOBP_x      45.5175   5.07e+05   8.97e-05      1.000   -9.94e+05    9.95e+05\n",
            "PitSLG_x     -35.1959   5.07e+05  -6.94e-05      1.000   -9.94e+05    9.94e+05\n",
            "PitOPS_x      10.3174   5.07e+05   2.04e-05      1.000   -9.94e+05    9.94e+05\n",
            "PitHR_x       41.5991     12.757      3.261      0.001      16.597      66.601\n",
            "ERA_x          4.2372      2.765      1.532      0.125      -1.182       9.656\n",
            "PitB_x       -43.8851     12.175     -3.605      0.000     -67.747     -20.023\n",
            "PitK_x        24.3802     19.179      1.271      0.204     -13.211      61.971\n",
            "PitK/B_x     -13.3559     11.653     -1.146      0.252     -36.196       9.484\n",
            "WHIP_x         0.1189      3.538      0.034      0.973      -6.815       7.053\n",
            "H_y           -1.8714   1.63e+06  -1.14e-06      1.000    -3.2e+06     3.2e+06\n",
            "OBP_y         -3.3669   1.16e+06   -2.9e-06      1.000   -2.27e+06    2.27e+06\n",
            "SLG_y         -2.7191   1.96e+05  -1.38e-05      1.000   -3.85e+05    3.85e+05\n",
            "ISO_y         -0.7241   1.96e+05  -3.69e-06      1.000   -3.84e+05    3.84e+05\n",
            "Babip_y       -2.6452      1.716     -1.541      0.123      -6.009       0.718\n",
            "RC_y          16.8185      3.711      4.533      0.000       9.546      24.091\n",
            "K_y            0.1424      0.075      1.910      0.056      -0.004       0.289\n",
            "BB_y          -1.4543   1.16e+06  -1.25e-06      1.000   -2.27e+06    2.27e+06\n",
            "RBI_y         -0.1863      0.128     -1.459      0.145      -0.437       0.064\n",
            "K/B_y         -0.0217      0.092     -0.237      0.813      -0.201       0.158\n",
            "HR_y          -9.3637      4.329     -2.163      0.031     -17.849      -0.878\n",
            "PitH_y        12.1235      3.722      3.257      0.001       4.828      19.419\n",
            "PitOBP_y     -20.8612    5.3e+05  -3.93e-05      1.000   -1.04e+06    1.04e+06\n",
            "PitSLG_y      15.2433    5.3e+05   2.87e-05      1.000   -1.04e+06    1.04e+06\n",
            "PitOPS_y      -5.6180    5.3e+05  -1.06e-05      1.000   -1.04e+06    1.04e+06\n",
            "PitHR_y       -8.5270      6.426     -1.327      0.185     -21.122       4.068\n",
            "ERA_y         -0.0344      1.909     -0.018      0.986      -3.777       3.708\n",
            "PitB_y         8.7947      5.266      1.670      0.095      -1.527      19.116\n",
            "PitK_y        11.7840      9.188      1.282      0.200      -6.225      29.793\n",
            "PitK/B_y      -7.9081      5.631     -1.404      0.160     -18.945       3.129\n",
            "WHIP_y         1.5152      2.145      0.706      0.480      -2.689       5.720\n",
            "==============================================================================\n",
            "Train accuracy =  0.5655398334774102\n",
            "Test accuracy =  0.5928312525171164\n"
          ]
        }
      ],
      "source": [
        "X_train = train[x_cols]\n",
        "y_train = train[y_cols]*1\n",
        "\n",
        "X_test = test[x_cols]\n",
        "y_test = test[y_cols]*1\n",
        "\n",
        "model = sm.Logit(y_train,X_train)\n",
        "results = model.fit()\n",
        "print(results.summary())\n",
        "\n",
        "y_hat = results.predict(X_train)\n",
        "y_hat = list(map(round,y_hat))\n",
        "print('Train accuracy = ', accuracy_score(y_train, y_hat))\n",
        "\n",
        "y_hat = results.predict( X_test)\n",
        "y_hat = list(map(round,y_hat))\n",
        "print('Test accuracy = ', accuracy_score(y_test, y_hat))"
      ]
    },
    {
      "cell_type": "code",
      "source": [
        "X_train.max()"
      ],
      "metadata": {
        "colab": {
          "base_uri": "https://localhost:8080/"
        },
        "id": "SAVv7ODyGh7w",
        "outputId": "340e73b4-3afc-4941-9d26-74206d204c4e"
      },
      "execution_count": 187,
      "outputs": [
        {
          "output_type": "execute_result",
          "data": {
            "text/plain": [
              "H_x          0.472527\n",
              "OBP_x        0.660000\n",
              "SLG_x        1.010870\n",
              "ISO_x        0.640884\n",
              "Babip_x      0.867647\n",
              "RC_x         0.418125\n",
              "K_x         14.600000\n",
              "BB_x         0.302326\n",
              "RBI_x       10.600000\n",
              "K/B_x       30.000000\n",
              "HR_x         0.116022\n",
              "PitH_x       0.462121\n",
              "PitOBP_x     0.711111\n",
              "PitSLG_x     1.097015\n",
              "PitOPS_x     1.802897\n",
              "PitHR_x      0.113208\n",
              "ERA_x        0.392593\n",
              "PitB_x       0.280303\n",
              "PitK_x       0.525926\n",
              "PitK/B_x     0.928105\n",
              "WHIP_x       0.984615\n",
              "H_y          0.474576\n",
              "OBP_y        0.686131\n",
              "SLG_y        1.069444\n",
              "ISO_y        0.652778\n",
              "Babip_y      0.973333\n",
              "RC_y         0.465421\n",
              "K_y         14.000000\n",
              "BB_y         0.362745\n",
              "RBI_y       11.600000\n",
              "K/B_y       17.200000\n",
              "HR_y         0.132867\n",
              "PitH_y       0.457143\n",
              "PitOBP_y     0.677083\n",
              "PitSLG_y     0.993865\n",
              "PitOPS_y     1.622816\n",
              "PitHR_y      0.116438\n",
              "ERA_y        0.448000\n",
              "PitB_y       0.308271\n",
              "PitK_y       0.559055\n",
              "PitK/B_y     0.979310\n",
              "WHIP_y       1.022556\n",
              "dtype: float64"
            ]
          },
          "metadata": {},
          "execution_count": 187
        }
      ]
    },
    {
      "cell_type": "code",
      "execution_count": 188,
      "metadata": {
        "id": "7n0qM-_2zs9s"
      },
      "outputs": [],
      "source": [
        "num_thread = 8\n",
        "# num of cpu "
      ]
    },
    {
      "cell_type": "code",
      "execution_count": 189,
      "metadata": {
        "colab": {
          "base_uri": "https://localhost:8080/",
          "height": 436
        },
        "id": "Md7HX60Hzs9t",
        "outputId": "0cbaedfc-a332-4916-bb79-fc59f3911577"
      },
      "outputs": [
        {
          "output_type": "error",
          "ename": "KeyboardInterrupt",
          "evalue": "ignored",
          "traceback": [
            "\u001b[0;31m---------------------------------------------------------------------------\u001b[0m",
            "\u001b[0;31mKeyboardInterrupt\u001b[0m                         Traceback (most recent call last)",
            "\u001b[0;32m<ipython-input-189-575c46dc9d79>\u001b[0m in \u001b[0;36m<module>\u001b[0;34m()\u001b[0m\n\u001b[1;32m      2\u001b[0m \u001b[0mlgb\u001b[0m \u001b[0;34m=\u001b[0m\u001b[0mLGBMClassifier\u001b[0m\u001b[0;34m(\u001b[0m\u001b[0;34m)\u001b[0m\u001b[0;34m\u001b[0m\u001b[0;34m\u001b[0m\u001b[0m\n\u001b[1;32m      3\u001b[0m \u001b[0mlgb_clf\u001b[0m \u001b[0;34m=\u001b[0m \u001b[0mGridSearchCV\u001b[0m\u001b[0;34m(\u001b[0m\u001b[0mlgb\u001b[0m\u001b[0;34m,\u001b[0m\u001b[0mparam\u001b[0m\u001b[0;34m,\u001b[0m\u001b[0mscoring\u001b[0m\u001b[0;34m=\u001b[0m\u001b[0;34m'accuracy'\u001b[0m\u001b[0;34m,\u001b[0m\u001b[0mn_jobs\u001b[0m\u001b[0;34m=\u001b[0m\u001b[0mnum_thread\u001b[0m\u001b[0;34m)\u001b[0m\u001b[0;34m\u001b[0m\u001b[0;34m\u001b[0m\u001b[0m\n\u001b[0;32m----> 4\u001b[0;31m \u001b[0mlgb_results\u001b[0m \u001b[0;34m=\u001b[0m \u001b[0mlgb_clf\u001b[0m\u001b[0;34m.\u001b[0m\u001b[0mfit\u001b[0m\u001b[0;34m(\u001b[0m\u001b[0mX_train\u001b[0m\u001b[0;34m,\u001b[0m \u001b[0my_train\u001b[0m\u001b[0;34m.\u001b[0m\u001b[0mvalues\u001b[0m\u001b[0;34m.\u001b[0m\u001b[0mravel\u001b[0m\u001b[0;34m(\u001b[0m\u001b[0;34m)\u001b[0m\u001b[0;34m,\u001b[0m \u001b[0meval_metric\u001b[0m\u001b[0;34m=\u001b[0m\u001b[0;34m[\u001b[0m\u001b[0;34m'logloss'\u001b[0m\u001b[0;34m]\u001b[0m\u001b[0;34m,\u001b[0m\u001b[0meval_set\u001b[0m\u001b[0;34m=\u001b[0m\u001b[0;34m[\u001b[0m\u001b[0;34m(\u001b[0m\u001b[0mX_test\u001b[0m\u001b[0;34m,\u001b[0m \u001b[0my_test\u001b[0m\u001b[0;34m.\u001b[0m\u001b[0mvalues\u001b[0m\u001b[0;34m.\u001b[0m\u001b[0mravel\u001b[0m\u001b[0;34m(\u001b[0m\u001b[0;34m)\u001b[0m\u001b[0;34m)\u001b[0m\u001b[0;34m]\u001b[0m\u001b[0;34m,\u001b[0m\u001b[0mcallbacks\u001b[0m\u001b[0;34m=\u001b[0m\u001b[0;34m[\u001b[0m\u001b[0mlightgbm\u001b[0m\u001b[0;34m.\u001b[0m\u001b[0mearly_stopping\u001b[0m\u001b[0;34m(\u001b[0m\u001b[0;36m10\u001b[0m\u001b[0;34m,\u001b[0m \u001b[0mverbose\u001b[0m\u001b[0;34m=\u001b[0m\u001b[0;36m0\u001b[0m\u001b[0;34m)\u001b[0m\u001b[0;34m]\u001b[0m\u001b[0;34m)\u001b[0m\u001b[0;34m\u001b[0m\u001b[0;34m\u001b[0m\u001b[0m\n\u001b[0m\u001b[1;32m      5\u001b[0m \u001b[0;34m\u001b[0m\u001b[0m\n\u001b[1;32m      6\u001b[0m \u001b[0mtrain_score\u001b[0m \u001b[0;34m=\u001b[0m \u001b[0mlgb_results\u001b[0m\u001b[0;34m.\u001b[0m\u001b[0mscore\u001b[0m\u001b[0;34m(\u001b[0m\u001b[0mX_train\u001b[0m\u001b[0;34m,\u001b[0m \u001b[0my_train\u001b[0m\u001b[0;34m)\u001b[0m\u001b[0;34m\u001b[0m\u001b[0;34m\u001b[0m\u001b[0m\n",
            "\u001b[0;32m/usr/local/lib/python3.7/dist-packages/sklearn/model_selection/_search.py\u001b[0m in \u001b[0;36mfit\u001b[0;34m(self, X, y, groups, **fit_params)\u001b[0m\n\u001b[1;32m    889\u001b[0m                 \u001b[0;32mreturn\u001b[0m \u001b[0mresults\u001b[0m\u001b[0;34m\u001b[0m\u001b[0;34m\u001b[0m\u001b[0m\n\u001b[1;32m    890\u001b[0m \u001b[0;34m\u001b[0m\u001b[0m\n\u001b[0;32m--> 891\u001b[0;31m             \u001b[0mself\u001b[0m\u001b[0;34m.\u001b[0m\u001b[0m_run_search\u001b[0m\u001b[0;34m(\u001b[0m\u001b[0mevaluate_candidates\u001b[0m\u001b[0;34m)\u001b[0m\u001b[0;34m\u001b[0m\u001b[0;34m\u001b[0m\u001b[0m\n\u001b[0m\u001b[1;32m    892\u001b[0m \u001b[0;34m\u001b[0m\u001b[0m\n\u001b[1;32m    893\u001b[0m             \u001b[0;31m# multimetric is determined here because in the case of a callable\u001b[0m\u001b[0;34m\u001b[0m\u001b[0;34m\u001b[0m\u001b[0;34m\u001b[0m\u001b[0m\n",
            "\u001b[0;32m/usr/local/lib/python3.7/dist-packages/sklearn/model_selection/_search.py\u001b[0m in \u001b[0;36m_run_search\u001b[0;34m(self, evaluate_candidates)\u001b[0m\n\u001b[1;32m   1390\u001b[0m     \u001b[0;32mdef\u001b[0m \u001b[0m_run_search\u001b[0m\u001b[0;34m(\u001b[0m\u001b[0mself\u001b[0m\u001b[0;34m,\u001b[0m \u001b[0mevaluate_candidates\u001b[0m\u001b[0;34m)\u001b[0m\u001b[0;34m:\u001b[0m\u001b[0;34m\u001b[0m\u001b[0;34m\u001b[0m\u001b[0m\n\u001b[1;32m   1391\u001b[0m         \u001b[0;34m\"\"\"Search all candidates in param_grid\"\"\"\u001b[0m\u001b[0;34m\u001b[0m\u001b[0;34m\u001b[0m\u001b[0m\n\u001b[0;32m-> 1392\u001b[0;31m         \u001b[0mevaluate_candidates\u001b[0m\u001b[0;34m(\u001b[0m\u001b[0mParameterGrid\u001b[0m\u001b[0;34m(\u001b[0m\u001b[0mself\u001b[0m\u001b[0;34m.\u001b[0m\u001b[0mparam_grid\u001b[0m\u001b[0;34m)\u001b[0m\u001b[0;34m)\u001b[0m\u001b[0;34m\u001b[0m\u001b[0;34m\u001b[0m\u001b[0m\n\u001b[0m\u001b[1;32m   1393\u001b[0m \u001b[0;34m\u001b[0m\u001b[0m\n\u001b[1;32m   1394\u001b[0m \u001b[0;34m\u001b[0m\u001b[0m\n",
            "\u001b[0;32m/usr/local/lib/python3.7/dist-packages/sklearn/model_selection/_search.py\u001b[0m in \u001b[0;36mevaluate_candidates\u001b[0;34m(candidate_params, cv, more_results)\u001b[0m\n\u001b[1;32m    849\u001b[0m                     )\n\u001b[1;32m    850\u001b[0m                     for (cand_idx, parameters), (split_idx, (train, test)) in product(\n\u001b[0;32m--> 851\u001b[0;31m                         \u001b[0menumerate\u001b[0m\u001b[0;34m(\u001b[0m\u001b[0mcandidate_params\u001b[0m\u001b[0;34m)\u001b[0m\u001b[0;34m,\u001b[0m \u001b[0menumerate\u001b[0m\u001b[0;34m(\u001b[0m\u001b[0mcv\u001b[0m\u001b[0;34m.\u001b[0m\u001b[0msplit\u001b[0m\u001b[0;34m(\u001b[0m\u001b[0mX\u001b[0m\u001b[0;34m,\u001b[0m \u001b[0my\u001b[0m\u001b[0;34m,\u001b[0m \u001b[0mgroups\u001b[0m\u001b[0;34m)\u001b[0m\u001b[0;34m)\u001b[0m\u001b[0;34m\u001b[0m\u001b[0;34m\u001b[0m\u001b[0m\n\u001b[0m\u001b[1;32m    852\u001b[0m                     )\n\u001b[1;32m    853\u001b[0m                 )\n",
            "\u001b[0;32m/usr/local/lib/python3.7/dist-packages/joblib/parallel.py\u001b[0m in \u001b[0;36m__call__\u001b[0;34m(self, iterable)\u001b[0m\n\u001b[1;32m   1054\u001b[0m \u001b[0;34m\u001b[0m\u001b[0m\n\u001b[1;32m   1055\u001b[0m             \u001b[0;32mwith\u001b[0m \u001b[0mself\u001b[0m\u001b[0;34m.\u001b[0m\u001b[0m_backend\u001b[0m\u001b[0;34m.\u001b[0m\u001b[0mretrieval_context\u001b[0m\u001b[0;34m(\u001b[0m\u001b[0;34m)\u001b[0m\u001b[0;34m:\u001b[0m\u001b[0;34m\u001b[0m\u001b[0;34m\u001b[0m\u001b[0m\n\u001b[0;32m-> 1056\u001b[0;31m                 \u001b[0mself\u001b[0m\u001b[0;34m.\u001b[0m\u001b[0mretrieve\u001b[0m\u001b[0;34m(\u001b[0m\u001b[0;34m)\u001b[0m\u001b[0;34m\u001b[0m\u001b[0;34m\u001b[0m\u001b[0m\n\u001b[0m\u001b[1;32m   1057\u001b[0m             \u001b[0;31m# Make sure that we get a last message telling us we are done\u001b[0m\u001b[0;34m\u001b[0m\u001b[0;34m\u001b[0m\u001b[0;34m\u001b[0m\u001b[0m\n\u001b[1;32m   1058\u001b[0m             \u001b[0melapsed_time\u001b[0m \u001b[0;34m=\u001b[0m \u001b[0mtime\u001b[0m\u001b[0;34m.\u001b[0m\u001b[0mtime\u001b[0m\u001b[0;34m(\u001b[0m\u001b[0;34m)\u001b[0m \u001b[0;34m-\u001b[0m \u001b[0mself\u001b[0m\u001b[0;34m.\u001b[0m\u001b[0m_start_time\u001b[0m\u001b[0;34m\u001b[0m\u001b[0;34m\u001b[0m\u001b[0m\n",
            "\u001b[0;32m/usr/local/lib/python3.7/dist-packages/joblib/parallel.py\u001b[0m in \u001b[0;36mretrieve\u001b[0;34m(self)\u001b[0m\n\u001b[1;32m    933\u001b[0m             \u001b[0;32mtry\u001b[0m\u001b[0;34m:\u001b[0m\u001b[0;34m\u001b[0m\u001b[0;34m\u001b[0m\u001b[0m\n\u001b[1;32m    934\u001b[0m                 \u001b[0;32mif\u001b[0m \u001b[0mgetattr\u001b[0m\u001b[0;34m(\u001b[0m\u001b[0mself\u001b[0m\u001b[0;34m.\u001b[0m\u001b[0m_backend\u001b[0m\u001b[0;34m,\u001b[0m \u001b[0;34m'supports_timeout'\u001b[0m\u001b[0;34m,\u001b[0m \u001b[0;32mFalse\u001b[0m\u001b[0;34m)\u001b[0m\u001b[0;34m:\u001b[0m\u001b[0;34m\u001b[0m\u001b[0;34m\u001b[0m\u001b[0m\n\u001b[0;32m--> 935\u001b[0;31m                     \u001b[0mself\u001b[0m\u001b[0;34m.\u001b[0m\u001b[0m_output\u001b[0m\u001b[0;34m.\u001b[0m\u001b[0mextend\u001b[0m\u001b[0;34m(\u001b[0m\u001b[0mjob\u001b[0m\u001b[0;34m.\u001b[0m\u001b[0mget\u001b[0m\u001b[0;34m(\u001b[0m\u001b[0mtimeout\u001b[0m\u001b[0;34m=\u001b[0m\u001b[0mself\u001b[0m\u001b[0;34m.\u001b[0m\u001b[0mtimeout\u001b[0m\u001b[0;34m)\u001b[0m\u001b[0;34m)\u001b[0m\u001b[0;34m\u001b[0m\u001b[0;34m\u001b[0m\u001b[0m\n\u001b[0m\u001b[1;32m    936\u001b[0m                 \u001b[0;32melse\u001b[0m\u001b[0;34m:\u001b[0m\u001b[0;34m\u001b[0m\u001b[0;34m\u001b[0m\u001b[0m\n\u001b[1;32m    937\u001b[0m                     \u001b[0mself\u001b[0m\u001b[0;34m.\u001b[0m\u001b[0m_output\u001b[0m\u001b[0;34m.\u001b[0m\u001b[0mextend\u001b[0m\u001b[0;34m(\u001b[0m\u001b[0mjob\u001b[0m\u001b[0;34m.\u001b[0m\u001b[0mget\u001b[0m\u001b[0;34m(\u001b[0m\u001b[0;34m)\u001b[0m\u001b[0;34m)\u001b[0m\u001b[0;34m\u001b[0m\u001b[0;34m\u001b[0m\u001b[0m\n",
            "\u001b[0;32m/usr/local/lib/python3.7/dist-packages/joblib/_parallel_backends.py\u001b[0m in \u001b[0;36mwrap_future_result\u001b[0;34m(future, timeout)\u001b[0m\n\u001b[1;32m    540\u001b[0m         AsyncResults.get from multiprocessing.\"\"\"\n\u001b[1;32m    541\u001b[0m         \u001b[0;32mtry\u001b[0m\u001b[0;34m:\u001b[0m\u001b[0;34m\u001b[0m\u001b[0;34m\u001b[0m\u001b[0m\n\u001b[0;32m--> 542\u001b[0;31m             \u001b[0;32mreturn\u001b[0m \u001b[0mfuture\u001b[0m\u001b[0;34m.\u001b[0m\u001b[0mresult\u001b[0m\u001b[0;34m(\u001b[0m\u001b[0mtimeout\u001b[0m\u001b[0;34m=\u001b[0m\u001b[0mtimeout\u001b[0m\u001b[0;34m)\u001b[0m\u001b[0;34m\u001b[0m\u001b[0;34m\u001b[0m\u001b[0m\n\u001b[0m\u001b[1;32m    543\u001b[0m         \u001b[0;32mexcept\u001b[0m \u001b[0mCfTimeoutError\u001b[0m \u001b[0;32mas\u001b[0m \u001b[0me\u001b[0m\u001b[0;34m:\u001b[0m\u001b[0;34m\u001b[0m\u001b[0;34m\u001b[0m\u001b[0m\n\u001b[1;32m    544\u001b[0m             \u001b[0;32mraise\u001b[0m \u001b[0mTimeoutError\u001b[0m \u001b[0;32mfrom\u001b[0m \u001b[0me\u001b[0m\u001b[0;34m\u001b[0m\u001b[0;34m\u001b[0m\u001b[0m\n",
            "\u001b[0;32m/usr/lib/python3.7/concurrent/futures/_base.py\u001b[0m in \u001b[0;36mresult\u001b[0;34m(self, timeout)\u001b[0m\n\u001b[1;32m    428\u001b[0m                 \u001b[0;32mreturn\u001b[0m \u001b[0mself\u001b[0m\u001b[0;34m.\u001b[0m\u001b[0m__get_result\u001b[0m\u001b[0;34m(\u001b[0m\u001b[0;34m)\u001b[0m\u001b[0;34m\u001b[0m\u001b[0;34m\u001b[0m\u001b[0m\n\u001b[1;32m    429\u001b[0m \u001b[0;34m\u001b[0m\u001b[0m\n\u001b[0;32m--> 430\u001b[0;31m             \u001b[0mself\u001b[0m\u001b[0;34m.\u001b[0m\u001b[0m_condition\u001b[0m\u001b[0;34m.\u001b[0m\u001b[0mwait\u001b[0m\u001b[0;34m(\u001b[0m\u001b[0mtimeout\u001b[0m\u001b[0;34m)\u001b[0m\u001b[0;34m\u001b[0m\u001b[0;34m\u001b[0m\u001b[0m\n\u001b[0m\u001b[1;32m    431\u001b[0m \u001b[0;34m\u001b[0m\u001b[0m\n\u001b[1;32m    432\u001b[0m             \u001b[0;32mif\u001b[0m \u001b[0mself\u001b[0m\u001b[0;34m.\u001b[0m\u001b[0m_state\u001b[0m \u001b[0;32min\u001b[0m \u001b[0;34m[\u001b[0m\u001b[0mCANCELLED\u001b[0m\u001b[0;34m,\u001b[0m \u001b[0mCANCELLED_AND_NOTIFIED\u001b[0m\u001b[0;34m]\u001b[0m\u001b[0;34m:\u001b[0m\u001b[0;34m\u001b[0m\u001b[0;34m\u001b[0m\u001b[0m\n",
            "\u001b[0;32m/usr/lib/python3.7/threading.py\u001b[0m in \u001b[0;36mwait\u001b[0;34m(self, timeout)\u001b[0m\n\u001b[1;32m    294\u001b[0m         \u001b[0;32mtry\u001b[0m\u001b[0;34m:\u001b[0m    \u001b[0;31m# restore state no matter what (e.g., KeyboardInterrupt)\u001b[0m\u001b[0;34m\u001b[0m\u001b[0;34m\u001b[0m\u001b[0m\n\u001b[1;32m    295\u001b[0m             \u001b[0;32mif\u001b[0m \u001b[0mtimeout\u001b[0m \u001b[0;32mis\u001b[0m \u001b[0;32mNone\u001b[0m\u001b[0;34m:\u001b[0m\u001b[0;34m\u001b[0m\u001b[0;34m\u001b[0m\u001b[0m\n\u001b[0;32m--> 296\u001b[0;31m                 \u001b[0mwaiter\u001b[0m\u001b[0;34m.\u001b[0m\u001b[0macquire\u001b[0m\u001b[0;34m(\u001b[0m\u001b[0;34m)\u001b[0m\u001b[0;34m\u001b[0m\u001b[0;34m\u001b[0m\u001b[0m\n\u001b[0m\u001b[1;32m    297\u001b[0m                 \u001b[0mgotit\u001b[0m \u001b[0;34m=\u001b[0m \u001b[0;32mTrue\u001b[0m\u001b[0;34m\u001b[0m\u001b[0;34m\u001b[0m\u001b[0m\n\u001b[1;32m    298\u001b[0m             \u001b[0;32melse\u001b[0m\u001b[0;34m:\u001b[0m\u001b[0;34m\u001b[0m\u001b[0;34m\u001b[0m\u001b[0m\n",
            "\u001b[0;31mKeyboardInterrupt\u001b[0m: "
          ]
        }
      ],
      "source": [
        "param ={'num_leaves':[4,6,8,10,20],'max_depth':[-1,3,6,9,12,15]}\n",
        "lgb =LGBMClassifier()\n",
        "lgb_clf = GridSearchCV(lgb,param,scoring='accuracy',n_jobs=num_thread)\n",
        "lgb_results = lgb_clf.fit(X_train, y_train.values.ravel(), eval_metric=['logloss'],eval_set=[(X_test, y_test.values.ravel())],callbacks=[lightgbm.early_stopping(10, verbose=0)])\n",
        "\n",
        "train_score = lgb_results.score(X_train, y_train)\n",
        "test_score = lgb_results.score(X_test, y_test)\n",
        "print(lgb_results.best_params_)\n",
        "print(test_score)"
      ]
    },
    {
      "cell_type": "code",
      "execution_count": 28,
      "metadata": {
        "colab": {
          "base_uri": "https://localhost:8080/"
        },
        "id": "sXYY_fLwzs9t",
        "outputId": "15b47a57-c1ce-4f8d-a394-0bf2cfeb211d"
      },
      "outputs": [
        {
          "output_type": "stream",
          "name": "stdout",
          "text": [
            "{'max_depth': 6, 'min_samples_split': 10}\n",
            "0.5783326621022956\n"
          ]
        }
      ],
      "source": [
        "rf_param ={'min_samples_split':[4,6,8,10,20],'max_depth':[-1,3,6,9,12,15]}\n",
        "rf =RandomForestClassifier()\n",
        "rf_clf = GridSearchCV(rf,rf_param,scoring='accuracy',n_jobs=num_thread)\n",
        "rf_results = rf_clf.fit(X_train,  y_train.values.ravel())\n",
        "\n",
        "\n",
        "train_score = rf_results.score(X_train, y_train)\n",
        "test_score = rf_results.score(X_test, y_test)\n",
        "print(rf_results.best_params_)\n",
        "print(test_score)"
      ]
    },
    {
      "cell_type": "code",
      "execution_count": 26,
      "metadata": {
        "colab": {
          "base_uri": "https://localhost:8080/",
          "height": 416
        },
        "id": "Tv_QvXHyzs9u",
        "outputId": "14a2de56-5f27-4767-c0f3-65ad32ffe69a"
      },
      "outputs": [
        {
          "output_type": "error",
          "ename": "KeyboardInterrupt",
          "evalue": "ignored",
          "traceback": [
            "\u001b[0;31m---------------------------------------------------------------------------\u001b[0m",
            "\u001b[0;31mKeyboardInterrupt\u001b[0m                         Traceback (most recent call last)",
            "\u001b[0;32m<ipython-input-26-f6e6fc2abc19>\u001b[0m in \u001b[0;36m<module>\u001b[0;34m()\u001b[0m\n\u001b[1;32m      3\u001b[0m \u001b[0msvm_model\u001b[0m \u001b[0;34m=\u001b[0m\u001b[0msvm\u001b[0m\u001b[0;34m.\u001b[0m\u001b[0mSVC\u001b[0m\u001b[0;34m(\u001b[0m\u001b[0;34m)\u001b[0m\u001b[0;34m\u001b[0m\u001b[0;34m\u001b[0m\u001b[0m\n\u001b[1;32m      4\u001b[0m \u001b[0msvm_clf\u001b[0m \u001b[0;34m=\u001b[0m \u001b[0mGridSearchCV\u001b[0m\u001b[0;34m(\u001b[0m\u001b[0mestimator\u001b[0m\u001b[0;34m=\u001b[0m\u001b[0msvm_model\u001b[0m\u001b[0;34m,\u001b[0m\u001b[0mparam_grid\u001b[0m\u001b[0;34m=\u001b[0m\u001b[0msvm_param\u001b[0m\u001b[0;34m,\u001b[0m\u001b[0mscoring\u001b[0m\u001b[0;34m=\u001b[0m\u001b[0;34m'accuracy'\u001b[0m\u001b[0;34m,\u001b[0m\u001b[0mn_jobs\u001b[0m\u001b[0;34m=\u001b[0m\u001b[0mnum_thread\u001b[0m\u001b[0;34m,\u001b[0m\u001b[0mverbose\u001b[0m\u001b[0;34m=\u001b[0m\u001b[0;36m0\u001b[0m\u001b[0;34m)\u001b[0m\u001b[0;34m\u001b[0m\u001b[0;34m\u001b[0m\u001b[0m\n\u001b[0;32m----> 5\u001b[0;31m \u001b[0msvm_results\u001b[0m \u001b[0;34m=\u001b[0m \u001b[0msvm_clf\u001b[0m\u001b[0;34m.\u001b[0m\u001b[0mfit\u001b[0m\u001b[0;34m(\u001b[0m\u001b[0mX_train\u001b[0m\u001b[0;34m,\u001b[0m \u001b[0my_train\u001b[0m\u001b[0;34m.\u001b[0m\u001b[0mvalues\u001b[0m\u001b[0;34m.\u001b[0m\u001b[0mravel\u001b[0m\u001b[0;34m(\u001b[0m\u001b[0;34m)\u001b[0m\u001b[0;34m)\u001b[0m\u001b[0;34m\u001b[0m\u001b[0;34m\u001b[0m\u001b[0m\n\u001b[0m\u001b[1;32m      6\u001b[0m \u001b[0;34m\u001b[0m\u001b[0m\n\u001b[1;32m      7\u001b[0m \u001b[0mtrain_score\u001b[0m \u001b[0;34m=\u001b[0m \u001b[0msvm_results\u001b[0m\u001b[0;34m.\u001b[0m\u001b[0mscore\u001b[0m\u001b[0;34m(\u001b[0m\u001b[0mX_train\u001b[0m\u001b[0;34m,\u001b[0m \u001b[0my_train\u001b[0m\u001b[0;34m)\u001b[0m\u001b[0;34m\u001b[0m\u001b[0;34m\u001b[0m\u001b[0m\n",
            "\u001b[0;32m/usr/local/lib/python3.7/dist-packages/sklearn/model_selection/_search.py\u001b[0m in \u001b[0;36mfit\u001b[0;34m(self, X, y, groups, **fit_params)\u001b[0m\n\u001b[1;32m    889\u001b[0m                 \u001b[0;32mreturn\u001b[0m \u001b[0mresults\u001b[0m\u001b[0;34m\u001b[0m\u001b[0;34m\u001b[0m\u001b[0m\n\u001b[1;32m    890\u001b[0m \u001b[0;34m\u001b[0m\u001b[0m\n\u001b[0;32m--> 891\u001b[0;31m             \u001b[0mself\u001b[0m\u001b[0;34m.\u001b[0m\u001b[0m_run_search\u001b[0m\u001b[0;34m(\u001b[0m\u001b[0mevaluate_candidates\u001b[0m\u001b[0;34m)\u001b[0m\u001b[0;34m\u001b[0m\u001b[0;34m\u001b[0m\u001b[0m\n\u001b[0m\u001b[1;32m    892\u001b[0m \u001b[0;34m\u001b[0m\u001b[0m\n\u001b[1;32m    893\u001b[0m             \u001b[0;31m# multimetric is determined here because in the case of a callable\u001b[0m\u001b[0;34m\u001b[0m\u001b[0;34m\u001b[0m\u001b[0;34m\u001b[0m\u001b[0m\n",
            "\u001b[0;32m/usr/local/lib/python3.7/dist-packages/sklearn/model_selection/_search.py\u001b[0m in \u001b[0;36m_run_search\u001b[0;34m(self, evaluate_candidates)\u001b[0m\n\u001b[1;32m   1390\u001b[0m     \u001b[0;32mdef\u001b[0m \u001b[0m_run_search\u001b[0m\u001b[0;34m(\u001b[0m\u001b[0mself\u001b[0m\u001b[0;34m,\u001b[0m \u001b[0mevaluate_candidates\u001b[0m\u001b[0;34m)\u001b[0m\u001b[0;34m:\u001b[0m\u001b[0;34m\u001b[0m\u001b[0;34m\u001b[0m\u001b[0m\n\u001b[1;32m   1391\u001b[0m         \u001b[0;34m\"\"\"Search all candidates in param_grid\"\"\"\u001b[0m\u001b[0;34m\u001b[0m\u001b[0;34m\u001b[0m\u001b[0m\n\u001b[0;32m-> 1392\u001b[0;31m         \u001b[0mevaluate_candidates\u001b[0m\u001b[0;34m(\u001b[0m\u001b[0mParameterGrid\u001b[0m\u001b[0;34m(\u001b[0m\u001b[0mself\u001b[0m\u001b[0;34m.\u001b[0m\u001b[0mparam_grid\u001b[0m\u001b[0;34m)\u001b[0m\u001b[0;34m)\u001b[0m\u001b[0;34m\u001b[0m\u001b[0;34m\u001b[0m\u001b[0m\n\u001b[0m\u001b[1;32m   1393\u001b[0m \u001b[0;34m\u001b[0m\u001b[0m\n\u001b[1;32m   1394\u001b[0m \u001b[0;34m\u001b[0m\u001b[0m\n",
            "\u001b[0;32m/usr/local/lib/python3.7/dist-packages/sklearn/model_selection/_search.py\u001b[0m in \u001b[0;36mevaluate_candidates\u001b[0;34m(candidate_params, cv, more_results)\u001b[0m\n\u001b[1;32m    849\u001b[0m                     )\n\u001b[1;32m    850\u001b[0m                     for (cand_idx, parameters), (split_idx, (train, test)) in product(\n\u001b[0;32m--> 851\u001b[0;31m                         \u001b[0menumerate\u001b[0m\u001b[0;34m(\u001b[0m\u001b[0mcandidate_params\u001b[0m\u001b[0;34m)\u001b[0m\u001b[0;34m,\u001b[0m \u001b[0menumerate\u001b[0m\u001b[0;34m(\u001b[0m\u001b[0mcv\u001b[0m\u001b[0;34m.\u001b[0m\u001b[0msplit\u001b[0m\u001b[0;34m(\u001b[0m\u001b[0mX\u001b[0m\u001b[0;34m,\u001b[0m \u001b[0my\u001b[0m\u001b[0;34m,\u001b[0m \u001b[0mgroups\u001b[0m\u001b[0;34m)\u001b[0m\u001b[0;34m)\u001b[0m\u001b[0;34m\u001b[0m\u001b[0;34m\u001b[0m\u001b[0m\n\u001b[0m\u001b[1;32m    852\u001b[0m                     )\n\u001b[1;32m    853\u001b[0m                 )\n",
            "\u001b[0;32m/usr/local/lib/python3.7/dist-packages/joblib/parallel.py\u001b[0m in \u001b[0;36m__call__\u001b[0;34m(self, iterable)\u001b[0m\n\u001b[1;32m   1054\u001b[0m \u001b[0;34m\u001b[0m\u001b[0m\n\u001b[1;32m   1055\u001b[0m             \u001b[0;32mwith\u001b[0m \u001b[0mself\u001b[0m\u001b[0;34m.\u001b[0m\u001b[0m_backend\u001b[0m\u001b[0;34m.\u001b[0m\u001b[0mretrieval_context\u001b[0m\u001b[0;34m(\u001b[0m\u001b[0;34m)\u001b[0m\u001b[0;34m:\u001b[0m\u001b[0;34m\u001b[0m\u001b[0;34m\u001b[0m\u001b[0m\n\u001b[0;32m-> 1056\u001b[0;31m                 \u001b[0mself\u001b[0m\u001b[0;34m.\u001b[0m\u001b[0mretrieve\u001b[0m\u001b[0;34m(\u001b[0m\u001b[0;34m)\u001b[0m\u001b[0;34m\u001b[0m\u001b[0;34m\u001b[0m\u001b[0m\n\u001b[0m\u001b[1;32m   1057\u001b[0m             \u001b[0;31m# Make sure that we get a last message telling us we are done\u001b[0m\u001b[0;34m\u001b[0m\u001b[0;34m\u001b[0m\u001b[0;34m\u001b[0m\u001b[0m\n\u001b[1;32m   1058\u001b[0m             \u001b[0melapsed_time\u001b[0m \u001b[0;34m=\u001b[0m \u001b[0mtime\u001b[0m\u001b[0;34m.\u001b[0m\u001b[0mtime\u001b[0m\u001b[0;34m(\u001b[0m\u001b[0;34m)\u001b[0m \u001b[0;34m-\u001b[0m \u001b[0mself\u001b[0m\u001b[0;34m.\u001b[0m\u001b[0m_start_time\u001b[0m\u001b[0;34m\u001b[0m\u001b[0;34m\u001b[0m\u001b[0m\n",
            "\u001b[0;32m/usr/local/lib/python3.7/dist-packages/joblib/parallel.py\u001b[0m in \u001b[0;36mretrieve\u001b[0;34m(self)\u001b[0m\n\u001b[1;32m    933\u001b[0m             \u001b[0;32mtry\u001b[0m\u001b[0;34m:\u001b[0m\u001b[0;34m\u001b[0m\u001b[0;34m\u001b[0m\u001b[0m\n\u001b[1;32m    934\u001b[0m                 \u001b[0;32mif\u001b[0m \u001b[0mgetattr\u001b[0m\u001b[0;34m(\u001b[0m\u001b[0mself\u001b[0m\u001b[0;34m.\u001b[0m\u001b[0m_backend\u001b[0m\u001b[0;34m,\u001b[0m \u001b[0;34m'supports_timeout'\u001b[0m\u001b[0;34m,\u001b[0m \u001b[0;32mFalse\u001b[0m\u001b[0;34m)\u001b[0m\u001b[0;34m:\u001b[0m\u001b[0;34m\u001b[0m\u001b[0;34m\u001b[0m\u001b[0m\n\u001b[0;32m--> 935\u001b[0;31m                     \u001b[0mself\u001b[0m\u001b[0;34m.\u001b[0m\u001b[0m_output\u001b[0m\u001b[0;34m.\u001b[0m\u001b[0mextend\u001b[0m\u001b[0;34m(\u001b[0m\u001b[0mjob\u001b[0m\u001b[0;34m.\u001b[0m\u001b[0mget\u001b[0m\u001b[0;34m(\u001b[0m\u001b[0mtimeout\u001b[0m\u001b[0;34m=\u001b[0m\u001b[0mself\u001b[0m\u001b[0;34m.\u001b[0m\u001b[0mtimeout\u001b[0m\u001b[0;34m)\u001b[0m\u001b[0;34m)\u001b[0m\u001b[0;34m\u001b[0m\u001b[0;34m\u001b[0m\u001b[0m\n\u001b[0m\u001b[1;32m    936\u001b[0m                 \u001b[0;32melse\u001b[0m\u001b[0;34m:\u001b[0m\u001b[0;34m\u001b[0m\u001b[0;34m\u001b[0m\u001b[0m\n\u001b[1;32m    937\u001b[0m                     \u001b[0mself\u001b[0m\u001b[0;34m.\u001b[0m\u001b[0m_output\u001b[0m\u001b[0;34m.\u001b[0m\u001b[0mextend\u001b[0m\u001b[0;34m(\u001b[0m\u001b[0mjob\u001b[0m\u001b[0;34m.\u001b[0m\u001b[0mget\u001b[0m\u001b[0;34m(\u001b[0m\u001b[0;34m)\u001b[0m\u001b[0;34m)\u001b[0m\u001b[0;34m\u001b[0m\u001b[0;34m\u001b[0m\u001b[0m\n",
            "\u001b[0;32m/usr/local/lib/python3.7/dist-packages/joblib/_parallel_backends.py\u001b[0m in \u001b[0;36mwrap_future_result\u001b[0;34m(future, timeout)\u001b[0m\n\u001b[1;32m    540\u001b[0m         AsyncResults.get from multiprocessing.\"\"\"\n\u001b[1;32m    541\u001b[0m         \u001b[0;32mtry\u001b[0m\u001b[0;34m:\u001b[0m\u001b[0;34m\u001b[0m\u001b[0;34m\u001b[0m\u001b[0m\n\u001b[0;32m--> 542\u001b[0;31m             \u001b[0;32mreturn\u001b[0m \u001b[0mfuture\u001b[0m\u001b[0;34m.\u001b[0m\u001b[0mresult\u001b[0m\u001b[0;34m(\u001b[0m\u001b[0mtimeout\u001b[0m\u001b[0;34m=\u001b[0m\u001b[0mtimeout\u001b[0m\u001b[0;34m)\u001b[0m\u001b[0;34m\u001b[0m\u001b[0;34m\u001b[0m\u001b[0m\n\u001b[0m\u001b[1;32m    543\u001b[0m         \u001b[0;32mexcept\u001b[0m \u001b[0mCfTimeoutError\u001b[0m \u001b[0;32mas\u001b[0m \u001b[0me\u001b[0m\u001b[0;34m:\u001b[0m\u001b[0;34m\u001b[0m\u001b[0;34m\u001b[0m\u001b[0m\n\u001b[1;32m    544\u001b[0m             \u001b[0;32mraise\u001b[0m \u001b[0mTimeoutError\u001b[0m \u001b[0;32mfrom\u001b[0m \u001b[0me\u001b[0m\u001b[0;34m\u001b[0m\u001b[0;34m\u001b[0m\u001b[0m\n",
            "\u001b[0;32m/usr/lib/python3.7/concurrent/futures/_base.py\u001b[0m in \u001b[0;36mresult\u001b[0;34m(self, timeout)\u001b[0m\n\u001b[1;32m    428\u001b[0m                 \u001b[0;32mreturn\u001b[0m \u001b[0mself\u001b[0m\u001b[0;34m.\u001b[0m\u001b[0m__get_result\u001b[0m\u001b[0;34m(\u001b[0m\u001b[0;34m)\u001b[0m\u001b[0;34m\u001b[0m\u001b[0;34m\u001b[0m\u001b[0m\n\u001b[1;32m    429\u001b[0m \u001b[0;34m\u001b[0m\u001b[0m\n\u001b[0;32m--> 430\u001b[0;31m             \u001b[0mself\u001b[0m\u001b[0;34m.\u001b[0m\u001b[0m_condition\u001b[0m\u001b[0;34m.\u001b[0m\u001b[0mwait\u001b[0m\u001b[0;34m(\u001b[0m\u001b[0mtimeout\u001b[0m\u001b[0;34m)\u001b[0m\u001b[0;34m\u001b[0m\u001b[0;34m\u001b[0m\u001b[0m\n\u001b[0m\u001b[1;32m    431\u001b[0m \u001b[0;34m\u001b[0m\u001b[0m\n\u001b[1;32m    432\u001b[0m             \u001b[0;32mif\u001b[0m \u001b[0mself\u001b[0m\u001b[0;34m.\u001b[0m\u001b[0m_state\u001b[0m \u001b[0;32min\u001b[0m \u001b[0;34m[\u001b[0m\u001b[0mCANCELLED\u001b[0m\u001b[0;34m,\u001b[0m \u001b[0mCANCELLED_AND_NOTIFIED\u001b[0m\u001b[0;34m]\u001b[0m\u001b[0;34m:\u001b[0m\u001b[0;34m\u001b[0m\u001b[0;34m\u001b[0m\u001b[0m\n",
            "\u001b[0;32m/usr/lib/python3.7/threading.py\u001b[0m in \u001b[0;36mwait\u001b[0;34m(self, timeout)\u001b[0m\n\u001b[1;32m    294\u001b[0m         \u001b[0;32mtry\u001b[0m\u001b[0;34m:\u001b[0m    \u001b[0;31m# restore state no matter what (e.g., KeyboardInterrupt)\u001b[0m\u001b[0;34m\u001b[0m\u001b[0;34m\u001b[0m\u001b[0m\n\u001b[1;32m    295\u001b[0m             \u001b[0;32mif\u001b[0m \u001b[0mtimeout\u001b[0m \u001b[0;32mis\u001b[0m \u001b[0;32mNone\u001b[0m\u001b[0;34m:\u001b[0m\u001b[0;34m\u001b[0m\u001b[0;34m\u001b[0m\u001b[0m\n\u001b[0;32m--> 296\u001b[0;31m                 \u001b[0mwaiter\u001b[0m\u001b[0;34m.\u001b[0m\u001b[0macquire\u001b[0m\u001b[0;34m(\u001b[0m\u001b[0;34m)\u001b[0m\u001b[0;34m\u001b[0m\u001b[0;34m\u001b[0m\u001b[0m\n\u001b[0m\u001b[1;32m    297\u001b[0m                 \u001b[0mgotit\u001b[0m \u001b[0;34m=\u001b[0m \u001b[0;32mTrue\u001b[0m\u001b[0;34m\u001b[0m\u001b[0;34m\u001b[0m\u001b[0m\n\u001b[1;32m    298\u001b[0m             \u001b[0;32melse\u001b[0m\u001b[0;34m:\u001b[0m\u001b[0;34m\u001b[0m\u001b[0;34m\u001b[0m\u001b[0m\n",
            "\u001b[0;31mKeyboardInterrupt\u001b[0m: "
          ]
        }
      ],
      "source": [
        "param_range = [0.001, 0.01, 0.1, 1.0, 10.0, 100.0] \n",
        "svm_param  = [{'C': param_range, 'kernel': ['linear']}, {'C': param_range, 'gamma': param_range, 'kernel': ['rbf']}]\n",
        "svm_model =svm.SVC()\n",
        "svm_clf = GridSearchCV(estimator=svm_model,param_grid=svm_param,scoring='accuracy',n_jobs=num_thread,verbose=0)\n",
        "svm_results = svm_clf.fit(X_train, y_train.values.ravel())\n",
        "\n",
        "train_score = svm_results.score(X_train, y_train)\n",
        "test_score = svm_results.score(X_test, y_test)\n",
        "print(svm_results.best_params_)\n",
        "print(test_score)"
      ]
    },
    {
      "cell_type": "code",
      "source": [
        "!pip install rtdl\n",
        "!pip install libzero==0.0.4"
      ],
      "metadata": {
        "colab": {
          "base_uri": "https://localhost:8080/"
        },
        "id": "VydRHCby6cUy",
        "outputId": "3d1feb72-703f-4dfd-e0b5-db39344b59e2"
      },
      "execution_count": 190,
      "outputs": [
        {
          "output_type": "stream",
          "name": "stdout",
          "text": [
            "Requirement already satisfied: rtdl in /usr/local/lib/python3.7/dist-packages (0.0.13)\n",
            "Requirement already satisfied: torch<2,>=1.7 in /usr/local/lib/python3.7/dist-packages (from rtdl) (1.11.0+cu113)\n",
            "Requirement already satisfied: numpy<2,>=1.18 in /usr/local/lib/python3.7/dist-packages (from rtdl) (1.21.6)\n",
            "Requirement already satisfied: typing-extensions in /usr/local/lib/python3.7/dist-packages (from torch<2,>=1.7->rtdl) (4.2.0)\n",
            "Requirement already satisfied: libzero==0.0.4 in /usr/local/lib/python3.7/dist-packages (0.0.4)\n",
            "Requirement already satisfied: torch<2,>=1.6 in /usr/local/lib/python3.7/dist-packages (from libzero==0.0.4) (1.11.0+cu113)\n",
            "Requirement already satisfied: pynvml<9,>=8.0 in /usr/local/lib/python3.7/dist-packages (from libzero==0.0.4) (8.0.4)\n",
            "Requirement already satisfied: tqdm<5,>=4.0 in /usr/local/lib/python3.7/dist-packages (from libzero==0.0.4) (4.64.0)\n",
            "Requirement already satisfied: numpy<2,>=1.17 in /usr/local/lib/python3.7/dist-packages (from libzero==0.0.4) (1.21.6)\n",
            "Requirement already satisfied: typing-extensions in /usr/local/lib/python3.7/dist-packages (from torch<2,>=1.6->libzero==0.0.4) (4.2.0)\n"
          ]
        }
      ]
    },
    {
      "cell_type": "code",
      "source": [
        "from typing import Any, Dict\n",
        "\n",
        "import numpy as np\n",
        "import rtdl\n",
        "import scipy.special\n",
        "import sklearn.datasets\n",
        "import sklearn.metrics\n",
        "import sklearn.model_selection\n",
        "import sklearn.preprocessing\n",
        "import torch\n",
        "import torch.nn as nn\n",
        "import torch.nn.functional as F\n",
        "import zero\n",
        "\n",
        "device = torch.device(\"cuda:0\")\n",
        "zero.improve_reproducibility(seed=123456)"
      ],
      "metadata": {
        "colab": {
          "base_uri": "https://localhost:8080/"
        },
        "id": "tSOTVeNQ-IgB",
        "outputId": "a44379ff-b60a-4caa-d6af-b7e421b834e3"
      },
      "execution_count": 191,
      "outputs": [
        {
          "output_type": "execute_result",
          "data": {
            "text/plain": [
              "123456"
            ]
          },
          "metadata": {},
          "execution_count": 191
        }
      ]
    },
    {
      "cell_type": "code",
      "source": [
        "norm_temp = np.concatenate([X_train, X_test])\n",
        "\n",
        "from sklearn.preprocessing import RobustScaler\n",
        "\n",
        "rob = RobustScaler()\n",
        "norm_temp = rob.fit_transform(norm_temp)"
      ],
      "metadata": {
        "id": "9Hg3Z2OvG5pw"
      },
      "execution_count": 192,
      "outputs": []
    },
    {
      "cell_type": "code",
      "source": [
        "X = {}\n",
        "y = {}\n",
        "\n",
        "y_train = sklearn.preprocessing.LabelEncoder().fit_transform(y_train).astype('int64')\n",
        "y_test = sklearn.preprocessing.LabelEncoder().fit_transform(y_test).astype('int64')\n",
        "X['train']=X_train\n",
        "X['test']=X_test\n",
        "y['train']=y_train\n",
        "y['test']=y_test\n",
        "\n",
        "preprocess = sklearn.preprocessing.StandardScaler().fit(X['train'])\n",
        "X = {\n",
        "    k: torch.tensor(preprocess.fit_transform(v), device=device)\n",
        "    for k, v in X.items()\n",
        "}\n",
        "y = {k: torch.tensor(v, device=device) for k, v in y.items()}\n",
        "\n",
        "X['train']=torch.tensor(X['train'],dtype=torch.float32,device=device)\n",
        "X['test']=torch.tensor(X['test'],dtype=torch.float32, device=device)\n",
        "X['train'], X['val'], y['train'], y['val'] = sklearn.model_selection.train_test_split(X['train'], y['train'], train_size=0.8)"
      ],
      "metadata": {
        "id": "BtpgrLj6DHCj"
      },
      "execution_count": 193,
      "outputs": []
    },
    {
      "cell_type": "code",
      "source": [
        "task_type ='binclass'\n",
        "d_out = 1\n",
        "\n",
        "model = rtdl.ResNet.make_baseline(\n",
        "    d_in=X_train.shape[1],\n",
        "    d_main=32,\n",
        "    d_hidden=64,\n",
        "    dropout_first=0.2,\n",
        "    dropout_second=0.0,\n",
        "    n_blocks=3,\n",
        "    d_out=d_out,\n",
        ")\n",
        "lr = 0.001\n",
        "weight_decay = 0.0\n",
        "\n",
        "model.to(device)\n",
        "optimizer = (\n",
        "    model.make_default_optimizer()\n",
        "    if isinstance(model, rtdl.FTTransformer)\n",
        "    # else torch.optim.Adam(model.parameters(), lr=lr)\n",
        "    else torch.optim.SGD(model.parameters(), lr=lr)\n",
        ")\n",
        "\n",
        "loss_fn = (\n",
        "    F.binary_cross_entropy_with_logits\n",
        "    if task_type == 'binclass'\n",
        "    else F.cross_entropy\n",
        "    if task_type == 'multiclass'\n",
        "    else F.mse_loss\n",
        ")"
      ],
      "metadata": {
        "id": "vgqL9uqK-vSB"
      },
      "execution_count": 232,
      "outputs": []
    },
    {
      "cell_type": "code",
      "source": [
        "def apply_model(x_num, x_cat=None):\n",
        "    if isinstance(model, rtdl.FTTransformer):\n",
        "        return model(x_num, x_cat)\n",
        "    elif isinstance(model, (rtdl.MLP, rtdl.ResNet)):\n",
        "        assert x_cat is None\n",
        "        return model(x_num)\n",
        "    else:\n",
        "        raise NotImplementedError(\n",
        "            f'Looks like you are using a custom model: {type(model)}.'\n",
        "            ' Then you have to implement this branch first.'\n",
        "        )\n",
        "\n",
        "\n",
        "@torch.no_grad()\n",
        "def evaluate(part):\n",
        "    model.eval()\n",
        "    prediction = []\n",
        "    for batch in zero.iter_batches(X[part], 1024):\n",
        "        prediction.append(apply_model(batch))\n",
        "    prediction = torch.cat(prediction).squeeze(1).cpu().numpy()\n",
        "    target = y[part].cpu().numpy()\n",
        "\n",
        "    if task_type == 'binclass':\n",
        "        prediction = np.round(scipy.special.expit(prediction))\n",
        "        score = sklearn.metrics.accuracy_score(target, prediction)\n",
        "    elif task_type == 'multiclass':\n",
        "        prediction = prediction.argmax(1)\n",
        "        score = sklearn.metrics.accuracy_score(target, prediction)\n",
        "    else:\n",
        "        assert task_type == 'regression'\n",
        "        score = sklearn.metrics.mean_squared_error(target, prediction) ** 0.5 * y_std\n",
        "    return score\n",
        "\n",
        "batch_size = 64\n",
        "train_loader = zero.data.IndexLoader(len(X['train']), batch_size, device=device)\n",
        "\n",
        "progress = zero.ProgressTracker(patience=100)\n",
        "\n",
        "print(f'Test score before training: {evaluate(\"test\"):.4f}')"
      ],
      "metadata": {
        "colab": {
          "base_uri": "https://localhost:8080/"
        },
        "id": "EFSXYVvf_DmM",
        "outputId": "67b97efa-57cb-4b81-b306-f1147c464570"
      },
      "execution_count": 233,
      "outputs": [
        {
          "output_type": "stream",
          "name": "stdout",
          "text": [
            "Test score before training: 0.4712\n"
          ]
        }
      ]
    },
    {
      "cell_type": "code",
      "source": [
        "n_epochs = 2000\n",
        "report_frequency = len(X['train']) // batch_size // 5\n",
        "loss_lst=[]\n",
        "testacc=[]\n",
        "valacc=[]\n",
        "len_trainloader=len(train_loader)\n",
        "for epoch in range(1, n_epochs + 1):\n",
        "    avg_loss=0\n",
        "    for iteration, batch_idx in enumerate(train_loader):\n",
        "        model.train()\n",
        "        optimizer.zero_grad()\n",
        "        x_batch = X['train'][batch_idx]\n",
        "        y_batch = y['train'][batch_idx]\n",
        "        loss = loss_fn(apply_model(x_batch).squeeze(1), y_batch.float())\n",
        "        loss.backward()\n",
        "        optimizer.step()\n",
        "        avg_loss += loss.item()\n",
        "    avg_loss=avg_loss / len_trainloader\n",
        "    loss_lst.append(loss.item())\n",
        "    val_score = evaluate('val')\n",
        "    testacc.append(val_score)\n",
        "    test_score = evaluate('test')\n",
        "    valacc.append(test_score)\n",
        "    print(f'Epoch {epoch:03d} | loss: {avg_loss:.4f} | Validation score: {val_score:.4f} | Test score: {test_score:.4f}')\n",
        "    # progress.update((-1 if task_type == 'regression' else 1) * val_score)\n",
        "    # if progress.success:\n",
        "    #     print(' <<< BEST VALIDATION EPOCH', end='')\n",
        "    # print()\n",
        "    # if progress.fail:\n",
        "    #     break"
      ],
      "metadata": {
        "colab": {
          "base_uri": "https://localhost:8080/",
          "height": 1000
        },
        "id": "4BINM1lnDdY_",
        "outputId": "3497406b-9b10-408b-d321-f1b70f6545ec"
      },
      "execution_count": 234,
      "outputs": [
        {
          "output_type": "stream",
          "name": "stdout",
          "text": [
            "Epoch 001 | loss: 0.7426 | Validation score: 0.4764 | Test score: 0.4716\n",
            "Epoch 002 | loss: 0.7156 | Validation score: 0.4953 | Test score: 0.4733\n",
            "Epoch 003 | loss: 0.7040 | Validation score: 0.5109 | Test score: 0.4892\n",
            "Epoch 004 | loss: 0.6976 | Validation score: 0.5201 | Test score: 0.5080\n",
            "Epoch 005 | loss: 0.6940 | Validation score: 0.5261 | Test score: 0.5182\n",
            "Epoch 006 | loss: 0.6926 | Validation score: 0.5323 | Test score: 0.5296\n",
            "Epoch 007 | loss: 0.6912 | Validation score: 0.5381 | Test score: 0.5390\n",
            "Epoch 008 | loss: 0.6906 | Validation score: 0.5424 | Test score: 0.5443\n",
            "Epoch 009 | loss: 0.6907 | Validation score: 0.5424 | Test score: 0.5451\n",
            "Epoch 010 | loss: 0.6900 | Validation score: 0.5424 | Test score: 0.5459\n",
            "Epoch 011 | loss: 0.6890 | Validation score: 0.5429 | Test score: 0.5455\n",
            "Epoch 012 | loss: 0.6886 | Validation score: 0.5452 | Test score: 0.5447\n",
            "Epoch 013 | loss: 0.6884 | Validation score: 0.5461 | Test score: 0.5451\n",
            "Epoch 014 | loss: 0.6886 | Validation score: 0.5459 | Test score: 0.5496\n",
            "Epoch 015 | loss: 0.6884 | Validation score: 0.5459 | Test score: 0.5528\n",
            "Epoch 016 | loss: 0.6873 | Validation score: 0.5436 | Test score: 0.5520\n",
            "Epoch 017 | loss: 0.6880 | Validation score: 0.5482 | Test score: 0.5541\n",
            "Epoch 018 | loss: 0.6871 | Validation score: 0.5473 | Test score: 0.5549\n",
            "Epoch 019 | loss: 0.6872 | Validation score: 0.5503 | Test score: 0.5549\n",
            "Epoch 020 | loss: 0.6874 | Validation score: 0.5493 | Test score: 0.5573\n",
            "Epoch 021 | loss: 0.6872 | Validation score: 0.5496 | Test score: 0.5590\n",
            "Epoch 022 | loss: 0.6862 | Validation score: 0.5500 | Test score: 0.5573\n",
            "Epoch 023 | loss: 0.6870 | Validation score: 0.5498 | Test score: 0.5602\n",
            "Epoch 024 | loss: 0.6866 | Validation score: 0.5505 | Test score: 0.5594\n",
            "Epoch 025 | loss: 0.6866 | Validation score: 0.5500 | Test score: 0.5590\n",
            "Epoch 026 | loss: 0.6864 | Validation score: 0.5514 | Test score: 0.5602\n",
            "Epoch 027 | loss: 0.6861 | Validation score: 0.5503 | Test score: 0.5581\n",
            "Epoch 028 | loss: 0.6865 | Validation score: 0.5496 | Test score: 0.5602\n",
            "Epoch 029 | loss: 0.6861 | Validation score: 0.5516 | Test score: 0.5610\n",
            "Epoch 030 | loss: 0.6860 | Validation score: 0.5537 | Test score: 0.5610\n",
            "Epoch 031 | loss: 0.6861 | Validation score: 0.5514 | Test score: 0.5594\n",
            "Epoch 032 | loss: 0.6858 | Validation score: 0.5542 | Test score: 0.5585\n",
            "Epoch 033 | loss: 0.6859 | Validation score: 0.5535 | Test score: 0.5573\n",
            "Epoch 034 | loss: 0.6860 | Validation score: 0.5542 | Test score: 0.5581\n",
            "Epoch 035 | loss: 0.6855 | Validation score: 0.5542 | Test score: 0.5594\n",
            "Epoch 036 | loss: 0.6856 | Validation score: 0.5539 | Test score: 0.5598\n",
            "Epoch 037 | loss: 0.6854 | Validation score: 0.5528 | Test score: 0.5614\n",
            "Epoch 038 | loss: 0.6857 | Validation score: 0.5521 | Test score: 0.5622\n",
            "Epoch 039 | loss: 0.6858 | Validation score: 0.5530 | Test score: 0.5590\n",
            "Epoch 040 | loss: 0.6854 | Validation score: 0.5533 | Test score: 0.5594\n",
            "Epoch 041 | loss: 0.6853 | Validation score: 0.5523 | Test score: 0.5602\n",
            "Epoch 042 | loss: 0.6855 | Validation score: 0.5530 | Test score: 0.5606\n",
            "Epoch 043 | loss: 0.6852 | Validation score: 0.5523 | Test score: 0.5594\n",
            "Epoch 044 | loss: 0.6845 | Validation score: 0.5539 | Test score: 0.5614\n",
            "Epoch 045 | loss: 0.6852 | Validation score: 0.5535 | Test score: 0.5614\n",
            "Epoch 046 | loss: 0.6857 | Validation score: 0.5526 | Test score: 0.5606\n",
            "Epoch 047 | loss: 0.6853 | Validation score: 0.5512 | Test score: 0.5610\n",
            "Epoch 048 | loss: 0.6853 | Validation score: 0.5521 | Test score: 0.5606\n",
            "Epoch 049 | loss: 0.6853 | Validation score: 0.5523 | Test score: 0.5606\n",
            "Epoch 050 | loss: 0.6849 | Validation score: 0.5505 | Test score: 0.5569\n",
            "Epoch 051 | loss: 0.6850 | Validation score: 0.5530 | Test score: 0.5585\n",
            "Epoch 052 | loss: 0.6847 | Validation score: 0.5539 | Test score: 0.5594\n",
            "Epoch 053 | loss: 0.6843 | Validation score: 0.5537 | Test score: 0.5602\n",
            "Epoch 054 | loss: 0.6847 | Validation score: 0.5535 | Test score: 0.5594\n",
            "Epoch 055 | loss: 0.6848 | Validation score: 0.5533 | Test score: 0.5573\n",
            "Epoch 056 | loss: 0.6842 | Validation score: 0.5528 | Test score: 0.5594\n",
            "Epoch 057 | loss: 0.6847 | Validation score: 0.5546 | Test score: 0.5590\n",
            "Epoch 058 | loss: 0.6845 | Validation score: 0.5539 | Test score: 0.5585\n",
            "Epoch 059 | loss: 0.6845 | Validation score: 0.5526 | Test score: 0.5590\n",
            "Epoch 060 | loss: 0.6845 | Validation score: 0.5537 | Test score: 0.5590\n",
            "Epoch 061 | loss: 0.6842 | Validation score: 0.5544 | Test score: 0.5585\n",
            "Epoch 062 | loss: 0.6844 | Validation score: 0.5546 | Test score: 0.5577\n",
            "Epoch 063 | loss: 0.6848 | Validation score: 0.5537 | Test score: 0.5594\n",
            "Epoch 064 | loss: 0.6844 | Validation score: 0.5539 | Test score: 0.5585\n",
            "Epoch 065 | loss: 0.6847 | Validation score: 0.5535 | Test score: 0.5594\n",
            "Epoch 066 | loss: 0.6850 | Validation score: 0.5539 | Test score: 0.5577\n",
            "Epoch 067 | loss: 0.6837 | Validation score: 0.5526 | Test score: 0.5577\n",
            "Epoch 068 | loss: 0.6843 | Validation score: 0.5535 | Test score: 0.5581\n",
            "Epoch 069 | loss: 0.6840 | Validation score: 0.5542 | Test score: 0.5573\n",
            "Epoch 070 | loss: 0.6841 | Validation score: 0.5556 | Test score: 0.5565\n",
            "Epoch 071 | loss: 0.6844 | Validation score: 0.5553 | Test score: 0.5569\n",
            "Epoch 072 | loss: 0.6841 | Validation score: 0.5558 | Test score: 0.5557\n",
            "Epoch 073 | loss: 0.6840 | Validation score: 0.5544 | Test score: 0.5565\n",
            "Epoch 074 | loss: 0.6839 | Validation score: 0.5567 | Test score: 0.5553\n",
            "Epoch 075 | loss: 0.6838 | Validation score: 0.5581 | Test score: 0.5553\n",
            "Epoch 076 | loss: 0.6839 | Validation score: 0.5556 | Test score: 0.5573\n",
            "Epoch 077 | loss: 0.6839 | Validation score: 0.5553 | Test score: 0.5553\n",
            "Epoch 078 | loss: 0.6835 | Validation score: 0.5558 | Test score: 0.5561\n",
            "Epoch 079 | loss: 0.6840 | Validation score: 0.5558 | Test score: 0.5553\n",
            "Epoch 080 | loss: 0.6837 | Validation score: 0.5574 | Test score: 0.5577\n",
            "Epoch 081 | loss: 0.6834 | Validation score: 0.5565 | Test score: 0.5545\n",
            "Epoch 082 | loss: 0.6839 | Validation score: 0.5567 | Test score: 0.5573\n",
            "Epoch 083 | loss: 0.6833 | Validation score: 0.5579 | Test score: 0.5549\n",
            "Epoch 084 | loss: 0.6836 | Validation score: 0.5585 | Test score: 0.5549\n",
            "Epoch 085 | loss: 0.6837 | Validation score: 0.5583 | Test score: 0.5549\n",
            "Epoch 086 | loss: 0.6837 | Validation score: 0.5567 | Test score: 0.5545\n",
            "Epoch 087 | loss: 0.6839 | Validation score: 0.5592 | Test score: 0.5549\n",
            "Epoch 088 | loss: 0.6835 | Validation score: 0.5572 | Test score: 0.5557\n",
            "Epoch 089 | loss: 0.6839 | Validation score: 0.5599 | Test score: 0.5557\n",
            "Epoch 090 | loss: 0.6837 | Validation score: 0.5567 | Test score: 0.5561\n",
            "Epoch 091 | loss: 0.6827 | Validation score: 0.5581 | Test score: 0.5549\n",
            "Epoch 092 | loss: 0.6834 | Validation score: 0.5576 | Test score: 0.5553\n",
            "Epoch 093 | loss: 0.6833 | Validation score: 0.5579 | Test score: 0.5545\n"
          ]
        },
        {
          "output_type": "error",
          "ename": "KeyboardInterrupt",
          "evalue": "ignored",
          "traceback": [
            "\u001b[0;31m---------------------------------------------------------------------------\u001b[0m",
            "\u001b[0;31mKeyboardInterrupt\u001b[0m                         Traceback (most recent call last)",
            "\u001b[0;32m<ipython-input-234-e5152b59fe7a>\u001b[0m in \u001b[0;36m<module>\u001b[0;34m()\u001b[0m\n\u001b[1;32m     13\u001b[0m         \u001b[0my_batch\u001b[0m \u001b[0;34m=\u001b[0m \u001b[0my\u001b[0m\u001b[0;34m[\u001b[0m\u001b[0;34m'train'\u001b[0m\u001b[0;34m]\u001b[0m\u001b[0;34m[\u001b[0m\u001b[0mbatch_idx\u001b[0m\u001b[0;34m]\u001b[0m\u001b[0;34m\u001b[0m\u001b[0;34m\u001b[0m\u001b[0m\n\u001b[1;32m     14\u001b[0m         \u001b[0mloss\u001b[0m \u001b[0;34m=\u001b[0m \u001b[0mloss_fn\u001b[0m\u001b[0;34m(\u001b[0m\u001b[0mapply_model\u001b[0m\u001b[0;34m(\u001b[0m\u001b[0mx_batch\u001b[0m\u001b[0;34m)\u001b[0m\u001b[0;34m.\u001b[0m\u001b[0msqueeze\u001b[0m\u001b[0;34m(\u001b[0m\u001b[0;36m1\u001b[0m\u001b[0;34m)\u001b[0m\u001b[0;34m,\u001b[0m \u001b[0my_batch\u001b[0m\u001b[0;34m.\u001b[0m\u001b[0mfloat\u001b[0m\u001b[0;34m(\u001b[0m\u001b[0;34m)\u001b[0m\u001b[0;34m)\u001b[0m\u001b[0;34m\u001b[0m\u001b[0;34m\u001b[0m\u001b[0m\n\u001b[0;32m---> 15\u001b[0;31m         \u001b[0mloss\u001b[0m\u001b[0;34m.\u001b[0m\u001b[0mbackward\u001b[0m\u001b[0;34m(\u001b[0m\u001b[0;34m)\u001b[0m\u001b[0;34m\u001b[0m\u001b[0;34m\u001b[0m\u001b[0m\n\u001b[0m\u001b[1;32m     16\u001b[0m         \u001b[0moptimizer\u001b[0m\u001b[0;34m.\u001b[0m\u001b[0mstep\u001b[0m\u001b[0;34m(\u001b[0m\u001b[0;34m)\u001b[0m\u001b[0;34m\u001b[0m\u001b[0;34m\u001b[0m\u001b[0m\n\u001b[1;32m     17\u001b[0m         \u001b[0mavg_loss\u001b[0m \u001b[0;34m+=\u001b[0m \u001b[0mloss\u001b[0m\u001b[0;34m.\u001b[0m\u001b[0mitem\u001b[0m\u001b[0;34m(\u001b[0m\u001b[0;34m)\u001b[0m\u001b[0;34m\u001b[0m\u001b[0;34m\u001b[0m\u001b[0m\n",
            "\u001b[0;32m/usr/local/lib/python3.7/dist-packages/torch/_tensor.py\u001b[0m in \u001b[0;36mbackward\u001b[0;34m(self, gradient, retain_graph, create_graph, inputs)\u001b[0m\n\u001b[1;32m    361\u001b[0m                 \u001b[0mcreate_graph\u001b[0m\u001b[0;34m=\u001b[0m\u001b[0mcreate_graph\u001b[0m\u001b[0;34m,\u001b[0m\u001b[0;34m\u001b[0m\u001b[0;34m\u001b[0m\u001b[0m\n\u001b[1;32m    362\u001b[0m                 inputs=inputs)\n\u001b[0;32m--> 363\u001b[0;31m         \u001b[0mtorch\u001b[0m\u001b[0;34m.\u001b[0m\u001b[0mautograd\u001b[0m\u001b[0;34m.\u001b[0m\u001b[0mbackward\u001b[0m\u001b[0;34m(\u001b[0m\u001b[0mself\u001b[0m\u001b[0;34m,\u001b[0m \u001b[0mgradient\u001b[0m\u001b[0;34m,\u001b[0m \u001b[0mretain_graph\u001b[0m\u001b[0;34m,\u001b[0m \u001b[0mcreate_graph\u001b[0m\u001b[0;34m,\u001b[0m \u001b[0minputs\u001b[0m\u001b[0;34m=\u001b[0m\u001b[0minputs\u001b[0m\u001b[0;34m)\u001b[0m\u001b[0;34m\u001b[0m\u001b[0;34m\u001b[0m\u001b[0m\n\u001b[0m\u001b[1;32m    364\u001b[0m \u001b[0;34m\u001b[0m\u001b[0m\n\u001b[1;32m    365\u001b[0m     \u001b[0;32mdef\u001b[0m \u001b[0mregister_hook\u001b[0m\u001b[0;34m(\u001b[0m\u001b[0mself\u001b[0m\u001b[0;34m,\u001b[0m \u001b[0mhook\u001b[0m\u001b[0;34m)\u001b[0m\u001b[0;34m:\u001b[0m\u001b[0;34m\u001b[0m\u001b[0;34m\u001b[0m\u001b[0m\n",
            "\u001b[0;32m/usr/local/lib/python3.7/dist-packages/torch/autograd/__init__.py\u001b[0m in \u001b[0;36mbackward\u001b[0;34m(tensors, grad_tensors, retain_graph, create_graph, grad_variables, inputs)\u001b[0m\n\u001b[1;32m    173\u001b[0m     Variable._execution_engine.run_backward(  # Calls into the C++ engine to run the backward pass\n\u001b[1;32m    174\u001b[0m         \u001b[0mtensors\u001b[0m\u001b[0;34m,\u001b[0m \u001b[0mgrad_tensors_\u001b[0m\u001b[0;34m,\u001b[0m \u001b[0mretain_graph\u001b[0m\u001b[0;34m,\u001b[0m \u001b[0mcreate_graph\u001b[0m\u001b[0;34m,\u001b[0m \u001b[0minputs\u001b[0m\u001b[0;34m,\u001b[0m\u001b[0;34m\u001b[0m\u001b[0;34m\u001b[0m\u001b[0m\n\u001b[0;32m--> 175\u001b[0;31m         allow_unreachable=True, accumulate_grad=True)  # Calls into the C++ engine to run the backward pass\n\u001b[0m\u001b[1;32m    176\u001b[0m \u001b[0;34m\u001b[0m\u001b[0m\n\u001b[1;32m    177\u001b[0m def grad(\n",
            "\u001b[0;31mKeyboardInterrupt\u001b[0m: "
          ]
        }
      ]
    },
    {
      "cell_type": "code",
      "source": [
        "epoch_graph=np.arange(1,2001)\n",
        "\n",
        "plt.plot(range(len(loss_lst)),loss_lst)\n",
        "plt.title('training loss')\n",
        "plt.xlabel('epochs')\n",
        "plt.ylabel('Training loss')\n",
        "plt.show()\n",
        "\n",
        "plt.plot(range(len(valacc)),valacc)\n",
        "plt.title('val accuracy')\n",
        "plt.xlabel('epochs')\n",
        "plt.ylabel('accuracy')\n",
        "plt.show()\n",
        "\n",
        "plt.plot(range(len(testacc)),testacc)\n",
        "plt.title('test accuracy')\n",
        "plt.xlabel('epochs')\n",
        "plt.ylabel('accuracy')\n",
        "plt.show()"
      ],
      "metadata": {
        "colab": {
          "base_uri": "https://localhost:8080/",
          "height": 869
        },
        "id": "eykP53igISR0",
        "outputId": "0a86b1dc-1a71-4702-e04c-8531f7257c57"
      },
      "execution_count": 235,
      "outputs": [
        {
          "output_type": "display_data",
          "data": {
            "text/plain": [
              "<Figure size 432x288 with 1 Axes>"
            ],
            "image/png": "[encoded data removed]"
          },
          "metadata": {
            "needs_background": "light"
          }
        },
        {
          "output_type": "display_data",
          "data": {
            "text/plain": [
              "<Figure size 432x288 with 1 Axes>"
            ],
            "image/png": "[encoded data removed]"
          },
          "metadata": {
            "needs_background": "light"
          }
        },
        {
          "output_type": "display_data",
          "data": {
            "text/plain": [
              "<Figure size 432x288 with 1 Axes>"
            ],
            "image/png": "[encoded data removed]"
          },
          "metadata": {
            "needs_background": "light"
          }
        }
      ]
    }
  ],
  "metadata": {
    "interpreter": {
      "hash": "bf4612eeba4b4211688d3a2d5dc5ccfa9bf773e8cc9ac21a43d17f733242559a"
    },
    "kernelspec": {
      "display_name": "Python 3.9.6 ('Fashion-How': conda)",
      "language": "python",
      "name": "python3"
    },
    "language_info": {
      "codemirror_mode": {
        "name": "ipython",
        "version": 3
      },
      "file_extension": ".py",
      "mimetype": "text/x-python",
      "name": "python",
      "nbconvert_exporter": "python",
      "pygments_lexer": "ipython3",
      "version": "3.9.12"
    },
    "orig_nbformat": 4,
    "colab": {
      "name": "resnet.ipynb",
      "provenance": [],
      "collapsed_sections": [],
      "include_colab_link": true
    },
    "accelerator": "GPU"
  },
  "nbformat": 4,
  "nbformat_minor": 0
}